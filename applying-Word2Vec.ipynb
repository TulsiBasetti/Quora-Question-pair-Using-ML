{
 "cells": [
  {
   "cell_type": "code",
   "execution_count": 1,
   "id": "ba7d465e",
   "metadata": {},
   "outputs": [],
   "source": [
    "import numpy as np\n",
    "import pandas as pd \n",
    "import seaborn as sns\n",
    "import matplotlib.pyplot as plt"
   ]
  },
  {
   "cell_type": "code",
   "execution_count": 2,
   "id": "b4e4acee",
   "metadata": {},
   "outputs": [
    {
     "data": {
      "text/plain": [
       "(404290, 6)"
      ]
     },
     "execution_count": 2,
     "metadata": {},
     "output_type": "execute_result"
    }
   ],
   "source": [
    "df=pd.read_csv(\"train.csv\")\n",
    "df.head(3)\n",
    "df.shape"
   ]
  },
  {
   "cell_type": "code",
   "execution_count": 3,
   "id": "312aae98",
   "metadata": {},
   "outputs": [
    {
     "data": {
      "text/html": [
       "<div>\n",
       "<style scoped>\n",
       "    .dataframe tbody tr th:only-of-type {\n",
       "        vertical-align: middle;\n",
       "    }\n",
       "\n",
       "    .dataframe tbody tr th {\n",
       "        vertical-align: top;\n",
       "    }\n",
       "\n",
       "    .dataframe thead th {\n",
       "        text-align: right;\n",
       "    }\n",
       "</style>\n",
       "<table border=\"1\" class=\"dataframe\">\n",
       "  <thead>\n",
       "    <tr style=\"text-align: right;\">\n",
       "      <th></th>\n",
       "      <th>id</th>\n",
       "      <th>qid1</th>\n",
       "      <th>qid2</th>\n",
       "      <th>question1</th>\n",
       "      <th>question2</th>\n",
       "      <th>is_duplicate</th>\n",
       "    </tr>\n",
       "  </thead>\n",
       "  <tbody>\n",
       "    <tr>\n",
       "      <th>354924</th>\n",
       "      <td>354924</td>\n",
       "      <td>484107</td>\n",
       "      <td>484108</td>\n",
       "      <td>Why is  the iPod touch called an iPod?</td>\n",
       "      <td>How are iPod and iPod Touch different?</td>\n",
       "      <td>0</td>\n",
       "    </tr>\n",
       "    <tr>\n",
       "      <th>142581</th>\n",
       "      <td>142581</td>\n",
       "      <td>101599</td>\n",
       "      <td>226089</td>\n",
       "      <td>How do I find my first investment property?</td>\n",
       "      <td>How do I find investment properties?</td>\n",
       "      <td>1</td>\n",
       "    </tr>\n",
       "  </tbody>\n",
       "</table>\n",
       "</div>"
      ],
      "text/plain": [
       "            id    qid1    qid2                                    question1  \\\n",
       "354924  354924  484107  484108       Why is  the iPod touch called an iPod?   \n",
       "142581  142581  101599  226089  How do I find my first investment property?   \n",
       "\n",
       "                                     question2  is_duplicate  \n",
       "354924  How are iPod and iPod Touch different?             0  \n",
       "142581    How do I find investment properties?             1  "
      ]
     },
     "execution_count": 3,
     "metadata": {},
     "output_type": "execute_result"
    }
   ],
   "source": [
    "# Taking only 30000 Rows\n",
    "new_df=df.sample(30000)\n",
    "new_df.isnull().sum()\n",
    "new_df.head(2)"
   ]
  },
  {
   "cell_type": "code",
   "execution_count": 4,
   "id": "26479aac",
   "metadata": {},
   "outputs": [],
   "source": [
    "# Creating new Dataframe using only 'question1' and 'question2' columns\n",
    "ques_df=new_df[['question1','question2']]\n",
    "# ques_df.head()"
   ]
  },
  {
   "cell_type": "code",
   "execution_count": 5,
   "id": "a0cafa42",
   "metadata": {},
   "outputs": [
    {
     "name": "stderr",
     "output_type": "stream",
     "text": [
      "C:\\Users\\KIIT\\AppData\\Local\\Temp\\ipykernel_10820\\3371720585.py:2: SettingWithCopyWarning: \n",
      "A value is trying to be set on a copy of a slice from a DataFrame\n",
      "\n",
      "See the caveats in the documentation: https://pandas.pydata.org/pandas-docs/stable/user_guide/indexing.html#returning-a-view-versus-a-copy\n",
      "  ques_df.dropna(inplace=True)\n"
     ]
    }
   ],
   "source": [
    "# Dropping missing values\n",
    "ques_df.dropna(inplace=True)"
   ]
  },
  {
   "cell_type": "code",
   "execution_count": 6,
   "id": "af6a3969",
   "metadata": {},
   "outputs": [],
   "source": [
    "# Applying preprocessing\n",
    "\n",
    "import re\n",
    "import nltk\n",
    "from nltk.corpus import stopwords\n",
    "from nltk.stem import PorterStemmer,WordNetLemmatizer\n",
    "from gensim.utils import simple_preprocess\n",
    "from collections import Counter"
   ]
  },
  {
   "cell_type": "code",
   "execution_count": 7,
   "id": "b2a44b42",
   "metadata": {},
   "outputs": [
    {
     "name": "stderr",
     "output_type": "stream",
     "text": [
      "[nltk_data] Downloading package stopwords to\n",
      "[nltk_data]     C:\\Users\\KIIT\\AppData\\Roaming\\nltk_data...\n",
      "[nltk_data]   Package stopwords is already up-to-date!\n",
      "[nltk_data] Downloading package wordnet to\n",
      "[nltk_data]     C:\\Users\\KIIT\\AppData\\Roaming\\nltk_data...\n",
      "[nltk_data]   Package wordnet is already up-to-date!\n",
      "[nltk_data] Downloading package omw-1.4 to\n",
      "[nltk_data]     C:\\Users\\KIIT\\AppData\\Roaming\\nltk_data...\n",
      "[nltk_data]   Package omw-1.4 is already up-to-date!\n"
     ]
    },
    {
     "data": {
      "text/plain": [
       "True"
      ]
     },
     "execution_count": 7,
     "metadata": {},
     "output_type": "execute_result"
    }
   ],
   "source": [
    "# Download\n",
    "\n",
    "nltk.download('stopwords')\n",
    "nltk.download('wordnet') #large lexical database of English\n",
    "nltk.download('omw-1.4')"
   ]
  },
  {
   "cell_type": "code",
   "execution_count": 8,
   "id": "ba70c6a5",
   "metadata": {},
   "outputs": [],
   "source": [
    "# Tools \n",
    "\n",
    "stop_words=set(stopwords.words('english'))\n",
    "stemmer=PorterStemmer()\n",
    "lemmatizer=WordNetLemmatizer()"
   ]
  },
  {
   "cell_type": "code",
   "execution_count": 9,
   "id": "b20b6a1c",
   "metadata": {},
   "outputs": [],
   "source": [
    "def preprocess_pipeline(text):\n",
    "    if pd.isnull(text):\n",
    "        return []\n",
    "    # Lowercase + Tokenize + remove punctuation\n",
    "    tokens = simple_preprocess(text)\n",
    "    #Remove stopwords\n",
    "    tokens=[word for word in tokens if word not in stop_words]\n",
    "    # Replace numbers with \"NUM\"\n",
    "    tokens=[re.sub(r'\\d+','NUM',word)for word in tokens]\n",
    "    # Apply stemming\n",
    "    tokens=[stemmer.stem(word) for word in tokens]\n",
    "    # Apply lemmatization\n",
    "    tokens =[lemmatizer.lemmatize(words) for words in tokens]\n",
    "\n",
    "    return tokens\n"
   ]
  },
  {
   "cell_type": "code",
   "execution_count": 10,
   "id": "ac4d9604",
   "metadata": {},
   "outputs": [
    {
     "name": "stderr",
     "output_type": "stream",
     "text": [
      "C:\\Users\\KIIT\\AppData\\Local\\Temp\\ipykernel_10820\\19323879.py:2: SettingWithCopyWarning: \n",
      "A value is trying to be set on a copy of a slice from a DataFrame.\n",
      "Try using .loc[row_indexer,col_indexer] = value instead\n",
      "\n",
      "See the caveats in the documentation: https://pandas.pydata.org/pandas-docs/stable/user_guide/indexing.html#returning-a-view-versus-a-copy\n",
      "  ques_df['q1_clean']=ques_df['question1'].apply(preprocess_pipeline)\n",
      "C:\\Users\\KIIT\\AppData\\Local\\Temp\\ipykernel_10820\\19323879.py:3: SettingWithCopyWarning: \n",
      "A value is trying to be set on a copy of a slice from a DataFrame.\n",
      "Try using .loc[row_indexer,col_indexer] = value instead\n",
      "\n",
      "See the caveats in the documentation: https://pandas.pydata.org/pandas-docs/stable/user_guide/indexing.html#returning-a-view-versus-a-copy\n",
      "  ques_df['q2_clean']=ques_df['question2'].apply(preprocess_pipeline)\n"
     ]
    }
   ],
   "source": [
    "# Apply preprocessing on both columns \n",
    "ques_df['q1_clean']=ques_df['question1'].apply(preprocess_pipeline)\n",
    "ques_df['q2_clean']=ques_df['question2'].apply(preprocess_pipeline)"
   ]
  },
  {
   "cell_type": "code",
   "execution_count": 11,
   "id": "c9a4fbcb",
   "metadata": {},
   "outputs": [
    {
     "data": {
      "text/html": [
       "<div>\n",
       "<style scoped>\n",
       "    .dataframe tbody tr th:only-of-type {\n",
       "        vertical-align: middle;\n",
       "    }\n",
       "\n",
       "    .dataframe tbody tr th {\n",
       "        vertical-align: top;\n",
       "    }\n",
       "\n",
       "    .dataframe thead th {\n",
       "        text-align: right;\n",
       "    }\n",
       "</style>\n",
       "<table border=\"1\" class=\"dataframe\">\n",
       "  <thead>\n",
       "    <tr style=\"text-align: right;\">\n",
       "      <th></th>\n",
       "      <th>question1</th>\n",
       "      <th>question2</th>\n",
       "      <th>q1_clean</th>\n",
       "      <th>q2_clean</th>\n",
       "    </tr>\n",
       "  </thead>\n",
       "  <tbody>\n",
       "    <tr>\n",
       "      <th>354924</th>\n",
       "      <td>Why is  the iPod touch called an iPod?</td>\n",
       "      <td>How are iPod and iPod Touch different?</td>\n",
       "      <td>[ipod, touch, call, ipod]</td>\n",
       "      <td>[ipod, ipod, touch, differ]</td>\n",
       "    </tr>\n",
       "    <tr>\n",
       "      <th>142581</th>\n",
       "      <td>How do I find my first investment property?</td>\n",
       "      <td>How do I find investment properties?</td>\n",
       "      <td>[find, first, invest, properti]</td>\n",
       "      <td>[find, invest, properti]</td>\n",
       "    </tr>\n",
       "    <tr>\n",
       "      <th>314075</th>\n",
       "      <td>What are the major contributions of malinowski...</td>\n",
       "      <td>How did Malinowski change anthropology?</td>\n",
       "      <td>[major, contribut, malinowski, toward, anthrop...</td>\n",
       "      <td>[malinowski, chang, anthropolog]</td>\n",
       "    </tr>\n",
       "  </tbody>\n",
       "</table>\n",
       "</div>"
      ],
      "text/plain": [
       "                                                question1  \\\n",
       "354924             Why is  the iPod touch called an iPod?   \n",
       "142581        How do I find my first investment property?   \n",
       "314075  What are the major contributions of malinowski...   \n",
       "\n",
       "                                      question2  \\\n",
       "354924   How are iPod and iPod Touch different?   \n",
       "142581     How do I find investment properties?   \n",
       "314075  How did Malinowski change anthropology?   \n",
       "\n",
       "                                                 q1_clean  \\\n",
       "354924                          [ipod, touch, call, ipod]   \n",
       "142581                    [find, first, invest, properti]   \n",
       "314075  [major, contribut, malinowski, toward, anthrop...   \n",
       "\n",
       "                                q2_clean  \n",
       "354924       [ipod, ipod, touch, differ]  \n",
       "142581          [find, invest, properti]  \n",
       "314075  [malinowski, chang, anthropolog]  "
      ]
     },
     "execution_count": 11,
     "metadata": {},
     "output_type": "execute_result"
    }
   ],
   "source": [
    "ques_df.head(3)"
   ]
  },
  {
   "cell_type": "code",
   "execution_count": 12,
   "id": "1f7a18fe",
   "metadata": {},
   "outputs": [],
   "source": [
    "# Each word frequency\n",
    "from collections import Counter\n",
    "all_words=[word for tokens in ques_df['q1_clean']+ques_df['q2_clean']for word in tokens]\n",
    "word_freq=Counter(all_words)"
   ]
  },
  {
   "cell_type": "code",
   "execution_count": 13,
   "id": "6ebef7be",
   "metadata": {},
   "outputs": [],
   "source": [
    "# word_freq"
   ]
  },
  {
   "cell_type": "code",
   "execution_count": 14,
   "id": "ea5a3fb0",
   "metadata": {},
   "outputs": [],
   "source": [
    "# Remove Rare and frequent words\n",
    "\n",
    "def remove_extreme_words(tokens):\n",
    "    filtered = []\n",
    "    for word in tokens:\n",
    "        if word_freq[word] > 2 and word_freq[word] < 10000:\n",
    "            filtered.append(word)\n",
    "    return filtered\n"
   ]
  },
  {
   "cell_type": "code",
   "execution_count": 15,
   "id": "cf3e373f",
   "metadata": {},
   "outputs": [
    {
     "name": "stderr",
     "output_type": "stream",
     "text": [
      "C:\\Users\\KIIT\\AppData\\Local\\Temp\\ipykernel_10820\\1423993348.py:2: SettingWithCopyWarning: \n",
      "A value is trying to be set on a copy of a slice from a DataFrame.\n",
      "Try using .loc[row_indexer,col_indexer] = value instead\n",
      "\n",
      "See the caveats in the documentation: https://pandas.pydata.org/pandas-docs/stable/user_guide/indexing.html#returning-a-view-versus-a-copy\n",
      "  ques_df['q1_clean']=ques_df['q1_clean'].apply(remove_extreme_words)\n",
      "C:\\Users\\KIIT\\AppData\\Local\\Temp\\ipykernel_10820\\1423993348.py:3: SettingWithCopyWarning: \n",
      "A value is trying to be set on a copy of a slice from a DataFrame.\n",
      "Try using .loc[row_indexer,col_indexer] = value instead\n",
      "\n",
      "See the caveats in the documentation: https://pandas.pydata.org/pandas-docs/stable/user_guide/indexing.html#returning-a-view-versus-a-copy\n",
      "  ques_df['q2_clean']=ques_df['q2_clean'].apply(remove_extreme_words)\n"
     ]
    }
   ],
   "source": [
    "# Applying Removal of extreme words\n",
    "ques_df['q1_clean']=ques_df['q1_clean'].apply(remove_extreme_words)\n",
    "ques_df['q2_clean']=ques_df['q2_clean'].apply(remove_extreme_words)"
   ]
  },
  {
   "cell_type": "code",
   "execution_count": 16,
   "id": "00de330c",
   "metadata": {},
   "outputs": [
    {
     "data": {
      "text/html": [
       "<div>\n",
       "<style scoped>\n",
       "    .dataframe tbody tr th:only-of-type {\n",
       "        vertical-align: middle;\n",
       "    }\n",
       "\n",
       "    .dataframe tbody tr th {\n",
       "        vertical-align: top;\n",
       "    }\n",
       "\n",
       "    .dataframe thead th {\n",
       "        text-align: right;\n",
       "    }\n",
       "</style>\n",
       "<table border=\"1\" class=\"dataframe\">\n",
       "  <thead>\n",
       "    <tr style=\"text-align: right;\">\n",
       "      <th></th>\n",
       "      <th>question1</th>\n",
       "      <th>question2</th>\n",
       "      <th>q1_clean</th>\n",
       "      <th>q2_clean</th>\n",
       "    </tr>\n",
       "  </thead>\n",
       "  <tbody>\n",
       "    <tr>\n",
       "      <th>354924</th>\n",
       "      <td>Why is  the iPod touch called an iPod?</td>\n",
       "      <td>How are iPod and iPod Touch different?</td>\n",
       "      <td>[ipod, touch, call, ipod]</td>\n",
       "      <td>[ipod, ipod, touch, differ]</td>\n",
       "    </tr>\n",
       "    <tr>\n",
       "      <th>142581</th>\n",
       "      <td>How do I find my first investment property?</td>\n",
       "      <td>How do I find investment properties?</td>\n",
       "      <td>[find, first, invest, properti]</td>\n",
       "      <td>[find, invest, properti]</td>\n",
       "    </tr>\n",
       "    <tr>\n",
       "      <th>314075</th>\n",
       "      <td>What are the major contributions of malinowski...</td>\n",
       "      <td>How did Malinowski change anthropology?</td>\n",
       "      <td>[major, contribut, toward, anthropolog]</td>\n",
       "      <td>[chang, anthropolog]</td>\n",
       "    </tr>\n",
       "  </tbody>\n",
       "</table>\n",
       "</div>"
      ],
      "text/plain": [
       "                                                question1  \\\n",
       "354924             Why is  the iPod touch called an iPod?   \n",
       "142581        How do I find my first investment property?   \n",
       "314075  What are the major contributions of malinowski...   \n",
       "\n",
       "                                      question2  \\\n",
       "354924   How are iPod and iPod Touch different?   \n",
       "142581     How do I find investment properties?   \n",
       "314075  How did Malinowski change anthropology?   \n",
       "\n",
       "                                       q1_clean                     q2_clean  \n",
       "354924                [ipod, touch, call, ipod]  [ipod, ipod, touch, differ]  \n",
       "142581          [find, first, invest, properti]     [find, invest, properti]  \n",
       "314075  [major, contribut, toward, anthropolog]         [chang, anthropolog]  "
      ]
     },
     "execution_count": 16,
     "metadata": {},
     "output_type": "execute_result"
    }
   ],
   "source": [
    "ques_df.head(3)"
   ]
  },
  {
   "cell_type": "code",
   "execution_count": 17,
   "id": "a965a811",
   "metadata": {},
   "outputs": [
    {
     "data": {
      "text/html": [
       "<div>\n",
       "<style scoped>\n",
       "    .dataframe tbody tr th:only-of-type {\n",
       "        vertical-align: middle;\n",
       "    }\n",
       "\n",
       "    .dataframe tbody tr th {\n",
       "        vertical-align: top;\n",
       "    }\n",
       "\n",
       "    .dataframe thead th {\n",
       "        text-align: right;\n",
       "    }\n",
       "</style>\n",
       "<table border=\"1\" class=\"dataframe\">\n",
       "  <thead>\n",
       "    <tr style=\"text-align: right;\">\n",
       "      <th></th>\n",
       "      <th>question1</th>\n",
       "      <th>question2</th>\n",
       "      <th>q1_clean</th>\n",
       "      <th>q2_clean</th>\n",
       "    </tr>\n",
       "  </thead>\n",
       "  <tbody>\n",
       "    <tr>\n",
       "      <th>354924</th>\n",
       "      <td>Why is  the iPod touch called an iPod?</td>\n",
       "      <td>How are iPod and iPod Touch different?</td>\n",
       "      <td>[ipod, touch, call, ipod]</td>\n",
       "      <td>[ipod, ipod, touch, differ]</td>\n",
       "    </tr>\n",
       "    <tr>\n",
       "      <th>142581</th>\n",
       "      <td>How do I find my first investment property?</td>\n",
       "      <td>How do I find investment properties?</td>\n",
       "      <td>[find, first, invest, properti]</td>\n",
       "      <td>[find, invest, properti]</td>\n",
       "    </tr>\n",
       "    <tr>\n",
       "      <th>316449</th>\n",
       "      <td>How would Indians and prospective Indian stude...</td>\n",
       "      <td>Will Donald Trump allow Indian students to stu...</td>\n",
       "      <td>[would, indian, prospect, indian, student, wan...</td>\n",
       "      <td>[donald, trump, allow, indian, student, studi, u]</td>\n",
       "    </tr>\n",
       "  </tbody>\n",
       "</table>\n",
       "</div>"
      ],
      "text/plain": [
       "                                                question1  \\\n",
       "354924             Why is  the iPod touch called an iPod?   \n",
       "142581        How do I find my first investment property?   \n",
       "316449  How would Indians and prospective Indian stude...   \n",
       "\n",
       "                                                question2  \\\n",
       "354924             How are iPod and iPod Touch different?   \n",
       "142581               How do I find investment properties?   \n",
       "316449  Will Donald Trump allow Indian students to stu...   \n",
       "\n",
       "                                                 q1_clean  \\\n",
       "354924                          [ipod, touch, call, ipod]   \n",
       "142581                    [find, first, invest, properti]   \n",
       "316449  [would, indian, prospect, indian, student, wan...   \n",
       "\n",
       "                                                 q2_clean  \n",
       "354924                        [ipod, ipod, touch, differ]  \n",
       "142581                           [find, invest, properti]  \n",
       "316449  [donald, trump, allow, indian, student, studi, u]  "
      ]
     },
     "execution_count": 17,
     "metadata": {},
     "output_type": "execute_result"
    }
   ],
   "source": [
    "# Removing very short questions (less than 3 words)\n",
    "q1_valid=ques_df['q1_clean'].apply(lambda x:len(x)>2)\n",
    "q2_valid=ques_df['q2_clean'].apply(lambda x: len(x)>2)\n",
    "ques_df=ques_df[q1_valid&q2_valid]\n",
    "ques_df.head(3)"
   ]
  },
  {
   "cell_type": "code",
   "execution_count": 18,
   "id": "1193f439",
   "metadata": {},
   "outputs": [
    {
     "data": {
      "text/plain": [
       "(24765, 4)"
      ]
     },
     "execution_count": 18,
     "metadata": {},
     "output_type": "execute_result"
    }
   ],
   "source": [
    "ques_df.shape # number of rows reduced from 30000 to 24758"
   ]
  },
  {
   "cell_type": "code",
   "execution_count": 19,
   "id": "b8ca3161",
   "metadata": {},
   "outputs": [],
   "source": [
    "from gensim.models import Word2Vec"
   ]
  },
  {
   "cell_type": "code",
   "execution_count": 20,
   "id": "2db457c4",
   "metadata": {},
   "outputs": [],
   "source": [
    "# Combine all cleaned questions as a single list\n",
    "sentences=list(ques_df['q1_clean']+ques_df['q2_clean'])\n",
    "# sentences"
   ]
  },
  {
   "cell_type": "code",
   "execution_count": 21,
   "id": "ce4494a4",
   "metadata": {},
   "outputs": [],
   "source": [
    "# Train Word2Vec\n",
    "model =Word2Vec(sentences,vector_size=100,window=5,min_count=3,workers=4,sg=1,epochs=10)"
   ]
  },
  {
   "cell_type": "code",
   "execution_count": 22,
   "id": "4430053a",
   "metadata": {},
   "outputs": [
    {
     "data": {
      "text/plain": [
       "7457"
      ]
     },
     "execution_count": 22,
     "metadata": {},
     "output_type": "execute_result"
    }
   ],
   "source": [
    "# Number of Vocabulary\n",
    "len(model.wv)"
   ]
  },
  {
   "cell_type": "code",
   "execution_count": 23,
   "id": "9db6c5bb",
   "metadata": {},
   "outputs": [],
   "source": [
    "# Vector representation of each word\n",
    "# model.wv.get_normed_vectors()"
   ]
  },
  {
   "cell_type": "code",
   "execution_count": 24,
   "id": "b48c1712",
   "metadata": {},
   "outputs": [
    {
     "data": {
      "text/plain": [
       "(7457, 100)"
      ]
     },
     "execution_count": 24,
     "metadata": {},
     "output_type": "execute_result"
    }
   ],
   "source": [
    "# Total unique words whose vector representation was created \n",
    "model.wv.get_normed_vectors().shape"
   ]
  },
  {
   "cell_type": "code",
   "execution_count": 25,
   "id": "4761df02",
   "metadata": {},
   "outputs": [],
   "source": [
    "y=model.wv.index_to_key\n",
    "# y"
   ]
  },
  {
   "cell_type": "code",
   "execution_count": 26,
   "id": "fa6da893",
   "metadata": {},
   "outputs": [
    {
     "data": {
      "text/plain": [
       "(7457, 3)"
      ]
     },
     "execution_count": 26,
     "metadata": {},
     "output_type": "execute_result"
    }
   ],
   "source": [
    "# Applying dimentionality Reduction using PCA \n",
    "# So that we van have a Visual representation in 3D\n",
    "from sklearn.decomposition import PCA\n",
    "pca =PCA(n_components=3)\n",
    "x=pca.fit_transform(model.wv.get_normed_vectors())\n",
    "x.shape # Dimentionality reduced from 100 to 3 "
   ]
  },
  {
   "cell_type": "code",
   "execution_count": 27,
   "id": "aa17ae7e",
   "metadata": {},
   "outputs": [
    {
     "data": {
      "application/vnd.plotly.v1+json": {
       "config": {
        "plotlyServerURL": "https://plot.ly"
       },
       "data": [
        {
         "hovertemplate": "color=best<br>0=%{x}<br>1=%{y}<br>2=%{z}<extra></extra>",
         "legendgroup": "best",
         "marker": {
          "color": "#636efa",
          "symbol": "circle"
         },
         "mode": "markers",
         "name": "best",
         "scene": "scene",
         "showlegend": true,
         "type": "scatter3d",
         "x": {
          "bdata": "vl9Ivg==",
          "dtype": "f4"
         },
         "y": {
          "bdata": "IHWCvQ==",
          "dtype": "f4"
         },
         "z": {
          "bdata": "NhUBPg==",
          "dtype": "f4"
         }
        },
        {
         "hovertemplate": "color=get<br>0=%{x}<br>1=%{y}<br>2=%{z}<extra></extra>",
         "legendgroup": "get",
         "marker": {
          "color": "#EF553B",
          "symbol": "circle"
         },
         "mode": "markers",
         "name": "get",
         "scene": "scene",
         "showlegend": true,
         "type": "scatter3d",
         "x": {
          "bdata": "fdv6vQ==",
          "dtype": "f4"
         },
         "y": {
          "bdata": "YHOuvQ==",
          "dtype": "f4"
         },
         "z": {
          "bdata": "ciorPg==",
          "dtype": "f4"
         }
        },
        {
         "hovertemplate": "color=india<br>0=%{x}<br>1=%{y}<br>2=%{z}<extra></extra>",
         "legendgroup": "india",
         "marker": {
          "color": "#00cc96",
          "symbol": "circle"
         },
         "mode": "markers",
         "name": "india",
         "scene": "scene",
         "showlegend": true,
         "type": "scatter3d",
         "x": {
          "bdata": "ZGkWvg==",
          "dtype": "f4"
         },
         "y": {
          "bdata": "JiSIvg==",
          "dtype": "f4"
         },
         "z": {
          "bdata": "isnCvQ==",
          "dtype": "f4"
         }
        },
        {
         "hovertemplate": "color=like<br>0=%{x}<br>1=%{y}<br>2=%{z}<extra></extra>",
         "legendgroup": "like",
         "marker": {
          "color": "#ab63fa",
          "symbol": "circle"
         },
         "mode": "markers",
         "name": "like",
         "scene": "scene",
         "showlegend": true,
         "type": "scatter3d",
         "x": {
          "bdata": "ugZsPQ==",
          "dtype": "f4"
         },
         "y": {
          "bdata": "KMs1vg==",
          "dtype": "f4"
         },
         "z": {
          "bdata": "oczbPQ==",
          "dtype": "f4"
         }
        },
        {
         "hovertemplate": "color=use<br>0=%{x}<br>1=%{y}<br>2=%{z}<extra></extra>",
         "legendgroup": "use",
         "marker": {
          "color": "#FFA15A",
          "symbol": "circle"
         },
         "mode": "markers",
         "name": "use",
         "scene": "scene",
         "showlegend": true,
         "type": "scatter3d",
         "x": {
          "bdata": "VahXvg==",
          "dtype": "f4"
         },
         "y": {
          "bdata": "nkYTPg==",
          "dtype": "f4"
         },
         "z": {
          "bdata": "lhNhPg==",
          "dtype": "f4"
         }
        },
        {
         "hovertemplate": "color=peopl<br>0=%{x}<br>1=%{y}<br>2=%{z}<extra></extra>",
         "legendgroup": "peopl",
         "marker": {
          "color": "#19d3f3",
          "symbol": "circle"
         },
         "mode": "markers",
         "name": "peopl",
         "scene": "scene",
         "showlegend": true,
         "type": "scatter3d",
         "x": {
          "bdata": "R58DPg==",
          "dtype": "f4"
         },
         "y": {
          "bdata": "Dqlpvg==",
          "dtype": "f4"
         },
         "z": {
          "bdata": "61lIPg==",
          "dtype": "f4"
         }
        },
        {
         "hovertemplate": "color=good<br>0=%{x}<br>1=%{y}<br>2=%{z}<extra></extra>",
         "legendgroup": "good",
         "marker": {
          "color": "#FF6692",
          "symbol": "circle"
         },
         "mode": "markers",
         "name": "good",
         "scene": "scene",
         "showlegend": true,
         "type": "scatter3d",
         "x": {
          "bdata": "O6wZvg==",
          "dtype": "f4"
         },
         "y": {
          "bdata": "L64Evg==",
          "dtype": "f4"
         },
         "z": {
          "bdata": "/j+tPQ==",
          "dtype": "f4"
         }
        },
        {
         "hovertemplate": "color=would<br>0=%{x}<br>1=%{y}<br>2=%{z}<extra></extra>",
         "legendgroup": "would",
         "marker": {
          "color": "#B6E880",
          "symbol": "circle"
         },
         "mode": "markers",
         "name": "would",
         "scene": "scene",
         "showlegend": true,
         "type": "scatter3d",
         "x": {
          "bdata": "W8RxPQ==",
          "dtype": "f4"
         },
         "y": {
          "bdata": "6rMvvg==",
          "dtype": "f4"
         },
         "z": {
          "bdata": "MSZzPQ==",
          "dtype": "f4"
         }
        },
        {
         "hovertemplate": "color=way<br>0=%{x}<br>1=%{y}<br>2=%{z}<extra></extra>",
         "legendgroup": "way",
         "marker": {
          "color": "#FF97FF",
          "symbol": "circle"
         },
         "mode": "markers",
         "name": "way",
         "scene": "scene",
         "showlegend": true,
         "type": "scatter3d",
         "x": {
          "bdata": "P46dvQ==",
          "dtype": "f4"
         },
         "y": {
          "bdata": "W4fvuw==",
          "dtype": "f4"
         },
         "z": {
          "bdata": "wESJPg==",
          "dtype": "f4"
         }
        },
        {
         "hovertemplate": "color=differ<br>0=%{x}<br>1=%{y}<br>2=%{z}<extra></extra>",
         "legendgroup": "differ",
         "marker": {
          "color": "#FECB52",
          "symbol": "circle"
         },
         "mode": "markers",
         "name": "differ",
         "scene": "scene",
         "showlegend": true,
         "type": "scatter3d",
         "x": {
          "bdata": "Fp72vQ==",
          "dtype": "f4"
         },
         "y": {
          "bdata": "9zEUPQ==",
          "dtype": "f4"
         },
         "z": {
          "bdata": "NQQavQ==",
          "dtype": "f4"
         }
        },
        {
         "hovertemplate": "color=make<br>0=%{x}<br>1=%{y}<br>2=%{z}<extra></extra>",
         "legendgroup": "make",
         "marker": {
          "color": "#636efa",
          "symbol": "circle"
         },
         "mode": "markers",
         "name": "make",
         "scene": "scene",
         "showlegend": true,
         "type": "scatter3d",
         "x": {
          "bdata": "TOXjvA==",
          "dtype": "f4"
         },
         "y": {
          "bdata": "Yc19vQ==",
          "dtype": "f4"
         },
         "z": {
          "bdata": "4GlfPg==",
          "dtype": "f4"
         }
        },
        {
         "hovertemplate": "color=one<br>0=%{x}<br>1=%{y}<br>2=%{z}<extra></extra>",
         "legendgroup": "one",
         "marker": {
          "color": "#EF553B",
          "symbol": "circle"
         },
         "mode": "markers",
         "name": "one",
         "scene": "scene",
         "showlegend": true,
         "type": "scatter3d",
         "x": {
          "bdata": "c8d/vQ==",
          "dtype": "f4"
         },
         "y": {
          "bdata": "du/CvQ==",
          "dtype": "f4"
         },
         "z": {
          "bdata": "zrsIPg==",
          "dtype": "f4"
         }
        },
        {
         "hovertemplate": "color=quora<br>0=%{x}<br>1=%{y}<br>2=%{z}<extra></extra>",
         "legendgroup": "quora",
         "marker": {
          "color": "#00cc96",
          "symbol": "circle"
         },
         "mode": "markers",
         "name": "quora",
         "scene": "scene",
         "showlegend": true,
         "type": "scatter3d",
         "x": {
          "bdata": "Ug23vQ==",
          "dtype": "f4"
         },
         "y": {
          "bdata": "1ldkvg==",
          "dtype": "f4"
         },
         "z": {
          "bdata": "dmGmPg==",
          "dtype": "f4"
         }
        },
        {
         "hovertemplate": "color=time<br>0=%{x}<br>1=%{y}<br>2=%{z}<extra></extra>",
         "legendgroup": "time",
         "marker": {
          "color": "#ab63fa",
          "symbol": "circle"
         },
         "mode": "markers",
         "name": "time",
         "scene": "scene",
         "showlegend": true,
         "type": "scatter3d",
         "x": {
          "bdata": "h+fyvA==",
          "dtype": "f4"
         },
         "y": {
          "bdata": "lsQOvg==",
          "dtype": "f4"
         },
         "z": {
          "bdata": "3x8kPg==",
          "dtype": "f4"
         }
        },
        {
         "hovertemplate": "color=learn<br>0=%{x}<br>1=%{y}<br>2=%{z}<extra></extra>",
         "legendgroup": "learn",
         "marker": {
          "color": "#FFA15A",
          "symbol": "circle"
         },
         "mode": "markers",
         "name": "learn",
         "scene": "scene",
         "showlegend": true,
         "type": "scatter3d",
         "x": {
          "bdata": "7Lxevg==",
          "dtype": "f4"
         },
         "y": {
          "bdata": "DUwUvg==",
          "dtype": "f4"
         },
         "z": {
          "bdata": "uK8oPg==",
          "dtype": "f4"
         }
        },
        {
         "hovertemplate": "color=year<br>0=%{x}<br>1=%{y}<br>2=%{z}<extra></extra>",
         "legendgroup": "year",
         "marker": {
          "color": "#19d3f3",
          "symbol": "circle"
         },
         "mode": "markers",
         "name": "year",
         "scene": "scene",
         "showlegend": true,
         "type": "scatter3d",
         "x": {
          "bdata": "G9nSvQ==",
          "dtype": "f4"
         },
         "y": {
          "bdata": "i4Nzvg==",
          "dtype": "f4"
         },
         "z": {
          "bdata": "44dsPQ==",
          "dtype": "f4"
         }
        },
        {
         "hovertemplate": "color=work<br>0=%{x}<br>1=%{y}<br>2=%{z}<extra></extra>",
         "legendgroup": "work",
         "marker": {
          "color": "#FF6692",
          "symbol": "circle"
         },
         "mode": "markers",
         "name": "work",
         "scene": "scene",
         "showlegend": true,
         "type": "scatter3d",
         "x": {
          "bdata": "Iedevg==",
          "dtype": "f4"
         },
         "y": {
          "bdata": "SJWXvQ==",
          "dtype": "f4"
         },
         "z": {
          "bdata": "HYu3PQ==",
          "dtype": "f4"
         }
        },
        {
         "hovertemplate": "color=life<br>0=%{x}<br>1=%{y}<br>2=%{z}<extra></extra>",
         "legendgroup": "life",
         "marker": {
          "color": "#B6E880",
          "symbol": "circle"
         },
         "mode": "markers",
         "name": "life",
         "scene": "scene",
         "showlegend": true,
         "type": "scatter3d",
         "x": {
          "bdata": "5hyqPQ==",
          "dtype": "f4"
         },
         "y": {
          "bdata": "ECV5vg==",
          "dtype": "f4"
         },
         "z": {
          "bdata": "P+v9PQ==",
          "dtype": "f4"
         }
        },
        {
         "hovertemplate": "color=money<br>0=%{x}<br>1=%{y}<br>2=%{z}<extra></extra>",
         "legendgroup": "money",
         "marker": {
          "color": "#FF97FF",
          "symbol": "circle"
         },
         "mode": "markers",
         "name": "money",
         "scene": "scene",
         "showlegend": true,
         "type": "scatter3d",
         "x": {
          "bdata": "lqf1vQ==",
          "dtype": "f4"
         },
         "y": {
          "bdata": "3W07vg==",
          "dtype": "f4"
         },
         "z": {
          "bdata": "bDo4Pg==",
          "dtype": "f4"
         }
        },
        {
         "hovertemplate": "color=know<br>0=%{x}<br>1=%{y}<br>2=%{z}<extra></extra>",
         "legendgroup": "know",
         "marker": {
          "color": "#FECB52",
          "symbol": "circle"
         },
         "mode": "markers",
         "name": "know",
         "scene": "scene",
         "showlegend": true,
         "type": "scatter3d",
         "x": {
          "bdata": "/RWBvQ==",
          "dtype": "f4"
         },
         "y": {
          "bdata": "C+0/vg==",
          "dtype": "f4"
         },
         "z": {
          "bdata": "VgOJPg==",
          "dtype": "f4"
         }
        },
        {
         "hovertemplate": "color=question<br>0=%{x}<br>1=%{y}<br>2=%{z}<extra></extra>",
         "legendgroup": "question",
         "marker": {
          "color": "#636efa",
          "symbol": "circle"
         },
         "mode": "markers",
         "name": "question",
         "scene": "scene",
         "showlegend": true,
         "type": "scatter3d",
         "x": {
          "bdata": "y9wDvg==",
          "dtype": "f4"
         },
         "y": {
          "bdata": "swFEvg==",
          "dtype": "f4"
         },
         "z": {
          "bdata": "KZmOPg==",
          "dtype": "f4"
         }
        },
        {
         "hovertemplate": "color=thing<br>0=%{x}<br>1=%{y}<br>2=%{z}<extra></extra>",
         "legendgroup": "thing",
         "marker": {
          "color": "#EF553B",
          "symbol": "circle"
         },
         "mode": "markers",
         "name": "thing",
         "scene": "scene",
         "showlegend": true,
         "type": "scatter3d",
         "x": {
          "bdata": "A7Q/PQ==",
          "dtype": "f4"
         },
         "y": {
          "bdata": "0TeAvg==",
          "dtype": "f4"
         },
         "z": {
          "bdata": "F4wlPg==",
          "dtype": "f4"
         }
        },
        {
         "hovertemplate": "color=engin<br>0=%{x}<br>1=%{y}<br>2=%{z}<extra></extra>",
         "legendgroup": "engin",
         "marker": {
          "color": "#00cc96",
          "symbol": "circle"
         },
         "mode": "markers",
         "name": "engin",
         "scene": "scene",
         "showlegend": true,
         "type": "scatter3d",
         "x": {
          "bdata": "WO6zvg==",
          "dtype": "f4"
         },
         "y": {
          "bdata": "L/Abvg==",
          "dtype": "f4"
         },
         "z": {
          "bdata": "ylSpvQ==",
          "dtype": "f4"
         }
        },
        {
         "hovertemplate": "color=indian<br>0=%{x}<br>1=%{y}<br>2=%{z}<extra></extra>",
         "legendgroup": "indian",
         "marker": {
          "color": "#ab63fa",
          "symbol": "circle"
         },
         "mode": "markers",
         "name": "indian",
         "scene": "scene",
         "showlegend": true,
         "type": "scatter3d",
         "x": {
          "bdata": "nxyOvA==",
          "dtype": "f4"
         },
         "y": {
          "bdata": "lMOJvg==",
          "dtype": "f4"
         },
         "z": {
          "bdata": "jOPLvA==",
          "dtype": "f4"
         }
        },
        {
         "hovertemplate": "color=much<br>0=%{x}<br>1=%{y}<br>2=%{z}<extra></extra>",
         "legendgroup": "much",
         "marker": {
          "color": "#FFA15A",
          "symbol": "circle"
         },
         "mode": "markers",
         "name": "much",
         "scene": "scene",
         "showlegend": true,
         "type": "scatter3d",
         "x": {
          "bdata": "ArG3vQ==",
          "dtype": "f4"
         },
         "y": {
          "bdata": "GQCvvQ==",
          "dtype": "f4"
         },
         "z": {
          "bdata": "QSqpPQ==",
          "dtype": "f4"
         }
        },
        {
         "hovertemplate": "color=new<br>0=%{x}<br>1=%{y}<br>2=%{z}<extra></extra>",
         "legendgroup": "new",
         "marker": {
          "color": "#19d3f3",
          "symbol": "circle"
         },
         "mode": "markers",
         "name": "new",
         "scene": "scene",
         "showlegend": true,
         "type": "scatter3d",
         "x": {
          "bdata": "Y781vg==",
          "dtype": "f4"
         },
         "y": {
          "bdata": "jCE9vg==",
          "dtype": "f4"
         },
         "z": {
          "bdata": "HUGyPQ==",
          "dtype": "f4"
         }
        },
        {
         "hovertemplate": "color=start<br>0=%{x}<br>1=%{y}<br>2=%{z}<extra></extra>",
         "legendgroup": "start",
         "marker": {
          "color": "#FF6692",
          "symbol": "circle"
         },
         "mode": "markers",
         "name": "start",
         "scene": "scene",
         "showlegend": true,
         "type": "scatter3d",
         "x": {
          "bdata": "oIkxvg==",
          "dtype": "f4"
         },
         "y": {
          "bdata": "TgRMvg==",
          "dtype": "f4"
         },
         "z": {
          "bdata": "Yw8hPg==",
          "dtype": "f4"
         }
        },
        {
         "hovertemplate": "color=think<br>0=%{x}<br>1=%{y}<br>2=%{z}<extra></extra>",
         "legendgroup": "think",
         "marker": {
          "color": "#B6E880",
          "symbol": "circle"
         },
         "mode": "markers",
         "name": "think",
         "scene": "scene",
         "showlegend": true,
         "type": "scatter3d",
         "x": {
          "bdata": "ug8ZPg==",
          "dtype": "f4"
         },
         "y": {
          "bdata": "WHSRvg==",
          "dtype": "f4"
         },
         "z": {
          "bdata": "svFSPQ==",
          "dtype": "f4"
         }
        },
        {
         "hovertemplate": "color=go<br>0=%{x}<br>1=%{y}<br>2=%{z}<extra></extra>",
         "legendgroup": "go",
         "marker": {
          "color": "#FF97FF",
          "symbol": "circle"
         },
         "mode": "markers",
         "name": "go",
         "scene": "scene",
         "showlegend": true,
         "type": "scatter3d",
         "x": {
          "bdata": "2vLQvA==",
          "dtype": "f4"
         },
         "y": {
          "bdata": "FIs4vg==",
          "dtype": "f4"
         },
         "z": {
          "bdata": "FWKhPQ==",
          "dtype": "f4"
         }
        },
        {
         "hovertemplate": "color=someon<br>0=%{x}<br>1=%{y}<br>2=%{z}<extra></extra>",
         "legendgroup": "someon",
         "marker": {
          "color": "#FECB52",
          "symbol": "circle"
         },
         "mode": "markers",
         "name": "someon",
         "scene": "scene",
         "showlegend": true,
         "type": "scatter3d",
         "x": {
          "bdata": "6mwZPQ==",
          "dtype": "f4"
         },
         "y": {
          "bdata": "cLE5vg==",
          "dtype": "f4"
         },
         "z": {
          "bdata": "1TG+Pg==",
          "dtype": "f4"
         }
        },
        {
         "hovertemplate": "color=day<br>0=%{x}<br>1=%{y}<br>2=%{z}<extra></extra>",
         "legendgroup": "day",
         "marker": {
          "color": "#636efa",
          "symbol": "circle"
         },
         "mode": "markers",
         "name": "day",
         "scene": "scene",
         "showlegend": true,
         "type": "scatter3d",
         "x": {
          "bdata": "Diw1vA==",
          "dtype": "f4"
         },
         "y": {
          "bdata": "eRv4vQ==",
          "dtype": "f4"
         },
         "z": {
          "bdata": "WdTcPQ==",
          "dtype": "f4"
         }
        },
        {
         "hovertemplate": "color=want<br>0=%{x}<br>1=%{y}<br>2=%{z}<extra></extra>",
         "legendgroup": "want",
         "marker": {
          "color": "#EF553B",
          "symbol": "circle"
         },
         "mode": "markers",
         "name": "want",
         "scene": "scene",
         "showlegend": true,
         "type": "scatter3d",
         "x": {
          "bdata": "hAztvQ==",
          "dtype": "f4"
         },
         "y": {
          "bdata": "jniMvg==",
          "dtype": "f4"
         },
         "z": {
          "bdata": "zl5wPg==",
          "dtype": "f4"
         }
        },
        {
         "hovertemplate": "color=book<br>0=%{x}<br>1=%{y}<br>2=%{z}<extra></extra>",
         "legendgroup": "book",
         "marker": {
          "color": "#00cc96",
          "symbol": "circle"
         },
         "mode": "markers",
         "name": "book",
         "scene": "scene",
         "showlegend": true,
         "type": "scatter3d",
         "x": {
          "bdata": "lBJkvg==",
          "dtype": "f4"
         },
         "y": {
          "bdata": "ZLkUvg==",
          "dtype": "f4"
         },
         "z": {
          "bdata": "xva7PQ==",
          "dtype": "f4"
         }
        },
        {
         "hovertemplate": "color=find<br>0=%{x}<br>1=%{y}<br>2=%{z}<extra></extra>",
         "legendgroup": "find",
         "marker": {
          "color": "#ab63fa",
          "symbol": "circle"
         },
         "mode": "markers",
         "name": "find",
         "scene": "scene",
         "showlegend": true,
         "type": "scatter3d",
         "x": {
          "bdata": "P98Tvg==",
          "dtype": "f4"
         },
         "y": {
          "bdata": "nN6rvQ==",
          "dtype": "f4"
         },
         "z": {
          "bdata": "zOlJPg==",
          "dtype": "f4"
         }
        },
        {
         "hovertemplate": "color=ever<br>0=%{x}<br>1=%{y}<br>2=%{z}<extra></extra>",
         "legendgroup": "ever",
         "marker": {
          "color": "#FFA15A",
          "symbol": "circle"
         },
         "mode": "markers",
         "name": "ever",
         "scene": "scene",
         "showlegend": true,
         "type": "scatter3d",
         "x": {
          "bdata": "tRTUPQ==",
          "dtype": "f4"
         },
         "y": {
          "bdata": "guCFvg==",
          "dtype": "f4"
         },
         "z": {
          "bdata": "q982Pg==",
          "dtype": "f4"
         }
        },
        {
         "hovertemplate": "color=mani<br>0=%{x}<br>1=%{y}<br>2=%{z}<extra></extra>",
         "legendgroup": "mani",
         "marker": {
          "color": "#19d3f3",
          "symbol": "circle"
         },
         "mode": "markers",
         "name": "mani",
         "scene": "scene",
         "showlegend": true,
         "type": "scatter3d",
         "x": {
          "bdata": "bNmvvA==",
          "dtype": "f4"
         },
         "y": {
          "bdata": "VMkBvg==",
          "dtype": "f4"
         },
         "z": {
          "bdata": "zlrqPQ==",
          "dtype": "f4"
         }
        },
        {
         "hovertemplate": "color=job<br>0=%{x}<br>1=%{y}<br>2=%{z}<extra></extra>",
         "legendgroup": "job",
         "marker": {
          "color": "#FF6692",
          "symbol": "circle"
         },
         "mode": "markers",
         "name": "job",
         "scene": "scene",
         "showlegend": true,
         "type": "scatter3d",
         "x": {
          "bdata": "sTSBvg==",
          "dtype": "f4"
         },
         "y": {
          "bdata": "qtWQvg==",
          "dtype": "f4"
         },
         "z": {
          "bdata": "rpXNvA==",
          "dtype": "f4"
         }
        },
        {
         "hovertemplate": "color=trump<br>0=%{x}<br>1=%{y}<br>2=%{z}<extra></extra>",
         "legendgroup": "trump",
         "marker": {
          "color": "#B6E880",
          "symbol": "circle"
         },
         "mode": "markers",
         "name": "trump",
         "scene": "scene",
         "showlegend": true,
         "type": "scatter3d",
         "x": {
          "bdata": "8mrSPQ==",
          "dtype": "f4"
         },
         "y": {
          "bdata": "um2rvg==",
          "dtype": "f4"
         },
         "z": {
          "bdata": "Rhq6vA==",
          "dtype": "f4"
         }
        },
        {
         "hovertemplate": "color=movi<br>0=%{x}<br>1=%{y}<br>2=%{z}<extra></extra>",
         "legendgroup": "movi",
         "marker": {
          "color": "#FF97FF",
          "symbol": "circle"
         },
         "mode": "markers",
         "name": "movi",
         "scene": "scene",
         "showlegend": true,
         "type": "scatter3d",
         "x": {
          "bdata": "MJ+yPQ==",
          "dtype": "f4"
         },
         "y": {
          "bdata": "UR4Gvg==",
          "dtype": "f4"
         },
         "z": {
          "bdata": "jzMsPg==",
          "dtype": "f4"
         }
        },
        {
         "hovertemplate": "color=becom<br>0=%{x}<br>1=%{y}<br>2=%{z}<extra></extra>",
         "legendgroup": "becom",
         "marker": {
          "color": "#FECB52",
          "symbol": "circle"
         },
         "mode": "markers",
         "name": "becom",
         "scene": "scene",
         "showlegend": true,
         "type": "scatter3d",
         "x": {
          "bdata": "oVyYvA==",
          "dtype": "f4"
         },
         "y": {
          "bdata": "njiCvg==",
          "dtype": "f4"
         },
         "z": {
          "bdata": "yiANPA==",
          "dtype": "f4"
         }
        },
        {
         "hovertemplate": "color=take<br>0=%{x}<br>1=%{y}<br>2=%{z}<extra></extra>",
         "legendgroup": "take",
         "marker": {
          "color": "#636efa",
          "symbol": "circle"
         },
         "mode": "markers",
         "name": "take",
         "scene": "scene",
         "showlegend": true,
         "type": "scatter3d",
         "x": {
          "bdata": "0THAvQ==",
          "dtype": "f4"
         },
         "y": {
          "bdata": "YtKMvQ==",
          "dtype": "f4"
         },
         "z": {
          "bdata": "OeSJPQ==",
          "dtype": "f4"
         }
        },
        {
         "hovertemplate": "color=onlin<br>0=%{x}<br>1=%{y}<br>2=%{z}<extra></extra>",
         "legendgroup": "onlin",
         "marker": {
          "color": "#EF553B",
          "symbol": "circle"
         },
         "mode": "markers",
         "name": "onlin",
         "scene": "scene",
         "showlegend": true,
         "type": "scatter3d",
         "x": {
          "bdata": "6oyEvg==",
          "dtype": "f4"
         },
         "y": {
          "bdata": "IavRvQ==",
          "dtype": "f4"
         },
         "z": {
          "bdata": "ffFrPg==",
          "dtype": "f4"
         }
        },
        {
         "hovertemplate": "color=without<br>0=%{x}<br>1=%{y}<br>2=%{z}<extra></extra>",
         "legendgroup": "without",
         "marker": {
          "color": "#00cc96",
          "symbol": "circle"
         },
         "mode": "markers",
         "name": "without",
         "scene": "scene",
         "showlegend": true,
         "type": "scatter3d",
         "x": {
          "bdata": "PRtyvQ==",
          "dtype": "f4"
         },
         "y": {
          "bdata": "qryCPQ==",
          "dtype": "f4"
         },
         "z": {
          "bdata": "/jhVPg==",
          "dtype": "f4"
         }
        },
        {
         "hovertemplate": "color=happen<br>0=%{x}<br>1=%{y}<br>2=%{z}<extra></extra>",
         "legendgroup": "happen",
         "marker": {
          "color": "#ab63fa",
          "symbol": "circle"
         },
         "mode": "markers",
         "name": "happen",
         "scene": "scene",
         "showlegend": true,
         "type": "scatter3d",
         "x": {
          "bdata": "1cvhPQ==",
          "dtype": "f4"
         },
         "y": {
          "bdata": "OwSMvQ==",
          "dtype": "f4"
         },
         "z": {
          "bdata": "XdirPA==",
          "dtype": "f4"
         }
        },
        {
         "hovertemplate": "color=first<br>0=%{x}<br>1=%{y}<br>2=%{z}<extra></extra>",
         "legendgroup": "first",
         "marker": {
          "color": "#FFA15A",
          "symbol": "circle"
         },
         "mode": "markers",
         "name": "first",
         "scene": "scene",
         "showlegend": true,
         "type": "scatter3d",
         "x": {
          "bdata": "vM0CvQ==",
          "dtype": "f4"
         },
         "y": {
          "bdata": "Eu9Qvg==",
          "dtype": "f4"
         },
         "z": {
          "bdata": "58fRPQ==",
          "dtype": "f4"
         }
        },
        {
         "hovertemplate": "color=mean<br>0=%{x}<br>1=%{y}<br>2=%{z}<extra></extra>",
         "legendgroup": "mean",
         "marker": {
          "color": "#19d3f3",
          "symbol": "circle"
         },
         "mode": "markers",
         "name": "mean",
         "scene": "scene",
         "showlegend": true,
         "type": "scatter3d",
         "x": {
          "bdata": "nyhRPQ==",
          "dtype": "f4"
         },
         "y": {
          "bdata": "CbhkvQ==",
          "dtype": "f4"
         },
         "z": {
          "bdata": "SKJJPg==",
          "dtype": "f4"
         }
        },
        {
         "hovertemplate": "color=girl<br>0=%{x}<br>1=%{y}<br>2=%{z}<extra></extra>",
         "legendgroup": "girl",
         "marker": {
          "color": "#FF6692",
          "symbol": "circle"
         },
         "mode": "markers",
         "name": "girl",
         "scene": "scene",
         "showlegend": true,
         "type": "scatter3d",
         "x": {
          "bdata": "RgUIPg==",
          "dtype": "f4"
         },
         "y": {
          "bdata": "tvwXvg==",
          "dtype": "f4"
         },
         "z": {
          "bdata": "YRODPg==",
          "dtype": "f4"
         }
        },
        {
         "hovertemplate": "color=note<br>0=%{x}<br>1=%{y}<br>2=%{z}<extra></extra>",
         "legendgroup": "note",
         "marker": {
          "color": "#B6E880",
          "symbol": "circle"
         },
         "mode": "markers",
         "name": "note",
         "scene": "scene",
         "showlegend": true,
         "type": "scatter3d",
         "x": {
          "bdata": "U+74vQ==",
          "dtype": "f4"
         },
         "y": {
          "bdata": "qp75vA==",
          "dtype": "f4"
         },
         "z": {
          "bdata": "WQu1PQ==",
          "dtype": "f4"
         }
        },
        {
         "hovertemplate": "color=better<br>0=%{x}<br>1=%{y}<br>2=%{z}<extra></extra>",
         "legendgroup": "better",
         "marker": {
          "color": "#FF97FF",
          "symbol": "circle"
         },
         "mode": "markers",
         "name": "better",
         "scene": "scene",
         "showlegend": true,
         "type": "scatter3d",
         "x": {
          "bdata": "9yggvg==",
          "dtype": "f4"
         },
         "y": {
          "bdata": "g43JvQ==",
          "dtype": "f4"
         },
         "z": {
          "bdata": "eAU/PA==",
          "dtype": "f4"
         }
        },
        {
         "hovertemplate": "color=need<br>0=%{x}<br>1=%{y}<br>2=%{z}<extra></extra>",
         "legendgroup": "need",
         "marker": {
          "color": "#FECB52",
          "symbol": "circle"
         },
         "mode": "markers",
         "name": "need",
         "scene": "scene",
         "showlegend": true,
         "type": "scatter3d",
         "x": {
          "bdata": "30wvvg==",
          "dtype": "f4"
         },
         "y": {
          "bdata": "TgDvvQ==",
          "dtype": "f4"
         },
         "z": {
          "bdata": "ej4YPg==",
          "dtype": "f4"
         }
        },
        {
         "hovertemplate": "color=feel<br>0=%{x}<br>1=%{y}<br>2=%{z}<extra></extra>",
         "legendgroup": "feel",
         "marker": {
          "color": "#636efa",
          "symbol": "circle"
         },
         "mode": "markers",
         "name": "feel",
         "scene": "scene",
         "showlegend": true,
         "type": "scatter3d",
         "x": {
          "bdata": "7Vt/Pg==",
          "dtype": "f4"
         },
         "y": {
          "bdata": "qgYxvg==",
          "dtype": "f4"
         },
         "z": {
          "bdata": "UcNLPg==",
          "dtype": "f4"
         }
        },
        {
         "hovertemplate": "color=person<br>0=%{x}<br>1=%{y}<br>2=%{z}<extra></extra>",
         "legendgroup": "person",
         "marker": {
          "color": "#EF553B",
          "symbol": "circle"
         },
         "mode": "markers",
         "name": "person",
         "scene": "scene",
         "showlegend": true,
         "type": "scatter3d",
         "x": {
          "bdata": "AeiAPQ==",
          "dtype": "f4"
         },
         "y": {
          "bdata": "hm5Uvg==",
          "dtype": "f4"
         },
         "z": {
          "bdata": "Ect2Pg==",
          "dtype": "f4"
         }
        },
        {
         "hovertemplate": "color=world<br>0=%{x}<br>1=%{y}<br>2=%{z}<extra></extra>",
         "legendgroup": "world",
         "marker": {
          "color": "#00cc96",
          "symbol": "circle"
         },
         "mode": "markers",
         "name": "world",
         "scene": "scene",
         "showlegend": true,
         "type": "scatter3d",
         "x": {
          "bdata": "2OKPPQ==",
          "dtype": "f4"
         },
         "y": {
          "bdata": "aeOAvg==",
          "dtype": "f4"
         },
         "z": {
          "bdata": "fePeug==",
          "dtype": "f4"
         }
        },
        {
         "hovertemplate": "color=u<br>0=%{x}<br>1=%{y}<br>2=%{z}<extra></extra>",
         "legendgroup": "u",
         "marker": {
          "color": "#ab63fa",
          "symbol": "circle"
         },
         "mode": "markers",
         "name": "u",
         "scene": "scene",
         "showlegend": true,
         "type": "scatter3d",
         "x": {
          "bdata": "WQxvvQ==",
          "dtype": "f4"
         },
         "y": {
          "bdata": "lPqrvg==",
          "dtype": "f4"
         },
         "z": {
          "bdata": "3uPNvQ==",
          "dtype": "f4"
         }
        },
        {
         "hovertemplate": "color=love<br>0=%{x}<br>1=%{y}<br>2=%{z}<extra></extra>",
         "legendgroup": "love",
         "marker": {
          "color": "#FFA15A",
          "symbol": "circle"
         },
         "mode": "markers",
         "name": "love",
         "scene": "scene",
         "showlegend": true,
         "type": "scatter3d",
         "x": {
          "bdata": "fWJPPg==",
          "dtype": "f4"
         },
         "y": {
          "bdata": "k6Z1vg==",
          "dtype": "f4"
         },
         "z": {
          "bdata": "N/yXPg==",
          "dtype": "f4"
         }
        },
        {
         "hovertemplate": "color=compani<br>0=%{x}<br>1=%{y}<br>2=%{z}<extra></extra>",
         "legendgroup": "compani",
         "marker": {
          "color": "#19d3f3",
          "symbol": "circle"
         },
         "mode": "markers",
         "name": "compani",
         "scene": "scene",
         "showlegend": true,
         "type": "scatter3d",
         "x": {
          "bdata": "JMjAvg==",
          "dtype": "f4"
         },
         "y": {
          "bdata": "QTQJvg==",
          "dtype": "f4"
         },
         "z": {
          "bdata": "AmopPA==",
          "dtype": "f4"
         }
        },
        {
         "hovertemplate": "color=possibl<br>0=%{x}<br>1=%{y}<br>2=%{z}<extra></extra>",
         "legendgroup": "possibl",
         "marker": {
          "color": "#FF6692",
          "symbol": "circle"
         },
         "mode": "markers",
         "name": "possibl",
         "scene": "scene",
         "showlegend": true,
         "type": "scatter3d",
         "x": {
          "bdata": "8qJWvQ==",
          "dtype": "f4"
         },
         "y": {
          "bdata": "2uLXvA==",
          "dtype": "f4"
         },
         "z": {
          "bdata": "SGE0Pg==",
          "dtype": "f4"
         }
        },
        {
         "hovertemplate": "color=univers<br>0=%{x}<br>1=%{y}<br>2=%{z}<extra></extra>",
         "legendgroup": "univers",
         "marker": {
          "color": "#B6E880",
          "symbol": "circle"
         },
         "mode": "markers",
         "name": "univers",
         "scene": "scene",
         "showlegend": true,
         "type": "scatter3d",
         "x": {
          "bdata": "57cxvg==",
          "dtype": "f4"
         },
         "y": {
          "bdata": "HNlrvg==",
          "dtype": "f4"
         },
         "z": {
          "bdata": "I+guvg==",
          "dtype": "f4"
         }
        },
        {
         "hovertemplate": "color=english<br>0=%{x}<br>1=%{y}<br>2=%{z}<extra></extra>",
         "legendgroup": "english",
         "marker": {
          "color": "#FF97FF",
          "symbol": "circle"
         },
         "mode": "markers",
         "name": "english",
         "scene": "scene",
         "showlegend": true,
         "type": "scatter3d",
         "x": {
          "bdata": "RbQ/vQ==",
          "dtype": "f4"
         },
         "y": {
          "bdata": "f3E9vg==",
          "dtype": "f4"
         },
         "z": {
          "bdata": "PYQFPg==",
          "dtype": "f4"
         }
        },
        {
         "hovertemplate": "color=could<br>0=%{x}<br>1=%{y}<br>2=%{z}<extra></extra>",
         "legendgroup": "could",
         "marker": {
          "color": "#FECB52",
          "symbol": "circle"
         },
         "mode": "markers",
         "name": "could",
         "scene": "scene",
         "showlegend": true,
         "type": "scatter3d",
         "x": {
          "bdata": "91MdPQ==",
          "dtype": "f4"
         },
         "y": {
          "bdata": "Z1Ajvg==",
          "dtype": "f4"
         },
         "z": {
          "bdata": "OnQLPg==",
          "dtype": "f4"
         }
        },
        {
         "hovertemplate": "color=account<br>0=%{x}<br>1=%{y}<br>2=%{z}<extra></extra>",
         "legendgroup": "account",
         "marker": {
          "color": "#636efa",
          "symbol": "circle"
         },
         "mode": "markers",
         "name": "account",
         "scene": "scene",
         "showlegend": true,
         "type": "scatter3d",
         "x": {
          "bdata": "mCeQvg==",
          "dtype": "f4"
         },
         "y": {
          "bdata": "gVvRvQ==",
          "dtype": "f4"
         },
         "z": {
          "bdata": "IDOJPg==",
          "dtype": "f4"
         }
        },
        {
         "hovertemplate": "color=compar<br>0=%{x}<br>1=%{y}<br>2=%{z}<extra></extra>",
         "legendgroup": "compar",
         "marker": {
          "color": "#EF553B",
          "symbol": "circle"
         },
         "mode": "markers",
         "name": "compar",
         "scene": "scene",
         "showlegend": true,
         "type": "scatter3d",
         "x": {
          "bdata": "5dm2vQ==",
          "dtype": "f4"
         },
         "y": {
          "bdata": "o567PA==",
          "dtype": "f4"
         },
         "z": {
          "bdata": "Kzlcvg==",
          "dtype": "f4"
         }
        },
        {
         "hovertemplate": "color=improv<br>0=%{x}<br>1=%{y}<br>2=%{z}<extra></extra>",
         "legendgroup": "improv",
         "marker": {
          "color": "#00cc96",
          "symbol": "circle"
         },
         "mode": "markers",
         "name": "improv",
         "scene": "scene",
         "showlegend": true,
         "type": "scatter3d",
         "x": {
          "bdata": "Dh8Avg==",
          "dtype": "f4"
         },
         "y": {
          "bdata": "30Axvg==",
          "dtype": "f4"
         },
         "z": {
          "bdata": "LgEZPg==",
          "dtype": "f4"
         }
        },
        {
         "hovertemplate": "color=ask<br>0=%{x}<br>1=%{y}<br>2=%{z}<extra></extra>",
         "legendgroup": "ask",
         "marker": {
          "color": "#ab63fa",
          "symbol": "circle"
         },
         "mode": "markers",
         "name": "ask",
         "scene": "scene",
         "showlegend": true,
         "type": "scatter3d",
         "x": {
          "bdata": "jDPKvQ==",
          "dtype": "f4"
         },
         "y": {
          "bdata": "fwBXvg==",
          "dtype": "f4"
         },
         "z": {
          "bdata": "UwmpPg==",
          "dtype": "f4"
         }
        },
        {
         "hovertemplate": "color=countri<br>0=%{x}<br>1=%{y}<br>2=%{z}<extra></extra>",
         "legendgroup": "countri",
         "marker": {
          "color": "#FFA15A",
          "symbol": "circle"
         },
         "mode": "markers",
         "name": "countri",
         "scene": "scene",
         "showlegend": true,
         "type": "scatter3d",
         "x": {
          "bdata": "lmOjOg==",
          "dtype": "f4"
         },
         "y": {
          "bdata": "+Eeavg==",
          "dtype": "f4"
         },
         "z": {
          "bdata": "LXqSvQ==",
          "dtype": "f4"
         }
        },
        {
         "hovertemplate": "color=prepar<br>0=%{x}<br>1=%{y}<br>2=%{z}<extra></extra>",
         "legendgroup": "prepar",
         "marker": {
          "color": "#19d3f3",
          "symbol": "circle"
         },
         "mode": "markers",
         "name": "prepar",
         "scene": "scene",
         "showlegend": true,
         "type": "scatter3d",
         "x": {
          "bdata": "p35+vg==",
          "dtype": "f4"
         },
         "y": {
          "bdata": "g7Yzvg==",
          "dtype": "f4"
         },
         "z": {
          "bdata": "ZL6SvQ==",
          "dtype": "f4"
         }
        },
        {
         "hovertemplate": "color=number<br>0=%{x}<br>1=%{y}<br>2=%{z}<extra></extra>",
         "legendgroup": "number",
         "marker": {
          "color": "#FF6692",
          "symbol": "circle"
         },
         "mode": "markers",
         "name": "number",
         "scene": "scene",
         "showlegend": true,
         "type": "scatter3d",
         "x": {
          "bdata": "w3JKvg==",
          "dtype": "f4"
         },
         "y": {
          "bdata": "epTbvA==",
          "dtype": "f4"
         },
         "z": {
          "bdata": "/EwvPg==",
          "dtype": "f4"
         }
        },
        {
         "hovertemplate": "color=program<br>0=%{x}<br>1=%{y}<br>2=%{z}<extra></extra>",
         "legendgroup": "program",
         "marker": {
          "color": "#B6E880",
          "symbol": "circle"
         },
         "mode": "markers",
         "name": "program",
         "scene": "scene",
         "showlegend": true,
         "type": "scatter3d",
         "x": {
          "bdata": "7LG0vg==",
          "dtype": "f4"
         },
         "y": {
          "bdata": "2OUuvg==",
          "dtype": "f4"
         },
         "z": {
          "bdata": "uqCUPQ==",
          "dtype": "f4"
         }
        },
        {
         "hovertemplate": "color=languag<br>0=%{x}<br>1=%{y}<br>2=%{z}<extra></extra>",
         "legendgroup": "languag",
         "marker": {
          "color": "#FF97FF",
          "symbol": "circle"
         },
         "mode": "markers",
         "name": "languag",
         "scene": "scene",
         "showlegend": true,
         "type": "scatter3d",
         "x": {
          "bdata": "Hwkfvg==",
          "dtype": "f4"
         },
         "y": {
          "bdata": "84Arvg==",
          "dtype": "f4"
         },
         "z": {
          "bdata": "+3obPg==",
          "dtype": "f4"
         }
        },
        {
         "hovertemplate": "color=busi<br>0=%{x}<br>1=%{y}<br>2=%{z}<extra></extra>",
         "legendgroup": "busi",
         "marker": {
          "color": "#FECB52",
          "symbol": "circle"
         },
         "mode": "markers",
         "name": "busi",
         "scene": "scene",
         "showlegend": true,
         "type": "scatter3d",
         "x": {
          "bdata": "m/WLvg==",
          "dtype": "f4"
         },
         "y": {
          "bdata": "rotgvg==",
          "dtype": "f4"
         },
         "z": {
          "bdata": "L5d6PQ==",
          "dtype": "f4"
         }
        },
        {
         "hovertemplate": "color=realli<br>0=%{x}<br>1=%{y}<br>2=%{z}<extra></extra>",
         "legendgroup": "realli",
         "marker": {
          "color": "#636efa",
          "symbol": "circle"
         },
         "mode": "markers",
         "name": "realli",
         "scene": "scene",
         "showlegend": true,
         "type": "scatter3d",
         "x": {
          "bdata": "D934PQ==",
          "dtype": "f4"
         },
         "y": {
          "bdata": "mpZAvg==",
          "dtype": "f4"
         },
         "z": {
          "bdata": "IcxOPg==",
          "dtype": "f4"
         }
        },
        {
         "hovertemplate": "color=chang<br>0=%{x}<br>1=%{y}<br>2=%{z}<extra></extra>",
         "legendgroup": "chang",
         "marker": {
          "color": "#EF553B",
          "symbol": "circle"
         },
         "mode": "markers",
         "name": "chang",
         "scene": "scene",
         "showlegend": true,
         "type": "scatter3d",
         "x": {
          "bdata": "c8ORvQ==",
          "dtype": "f4"
         },
         "y": {
          "bdata": "TNvuvQ==",
          "dtype": "f4"
         },
         "z": {
          "bdata": "3CwNPg==",
          "dtype": "f4"
         }
        },
        {
         "hovertemplate": "color=long<br>0=%{x}<br>1=%{y}<br>2=%{z}<extra></extra>",
         "legendgroup": "long",
         "marker": {
          "color": "#00cc96",
          "symbol": "circle"
         },
         "mode": "markers",
         "name": "long",
         "scene": "scene",
         "showlegend": true,
         "type": "scatter3d",
         "x": {
          "bdata": "Vmzmuw==",
          "dtype": "f4"
         },
         "y": {
          "bdata": "W36BvA==",
          "dtype": "f4"
         },
         "z": {
          "bdata": "fuoyPg==",
          "dtype": "f4"
         }
        },
        {
         "hovertemplate": "color=develop<br>0=%{x}<br>1=%{y}<br>2=%{z}<extra></extra>",
         "legendgroup": "develop",
         "marker": {
          "color": "#ab63fa",
          "symbol": "circle"
         },
         "mode": "markers",
         "name": "develop",
         "scene": "scene",
         "showlegend": true,
         "type": "scatter3d",
         "x": {
          "bdata": "0ox/vg==",
          "dtype": "f4"
         },
         "y": {
          "bdata": "rYs+vg==",
          "dtype": "f4"
         },
         "z": {
          "bdata": "rl9oPQ==",
          "dtype": "f4"
         }
        },
        {
         "hovertemplate": "color=woman<br>0=%{x}<br>1=%{y}<br>2=%{z}<extra></extra>",
         "legendgroup": "woman",
         "marker": {
          "color": "#FFA15A",
          "symbol": "circle"
         },
         "mode": "markers",
         "name": "woman",
         "scene": "scene",
         "showlegend": true,
         "type": "scatter3d",
         "x": {
          "bdata": "BEaBPg==",
          "dtype": "f4"
         },
         "y": {
          "bdata": "TKE2vg==",
          "dtype": "f4"
         },
         "z": {
          "bdata": "jLkKPg==",
          "dtype": "f4"
         }
        },
        {
         "hovertemplate": "color=app<br>0=%{x}<br>1=%{y}<br>2=%{z}<extra></extra>",
         "legendgroup": "app",
         "marker": {
          "color": "#19d3f3",
          "symbol": "circle"
         },
         "mode": "markers",
         "name": "app",
         "scene": "scene",
         "showlegend": true,
         "type": "scatter3d",
         "x": {
          "bdata": "ZK6xvg==",
          "dtype": "f4"
         },
         "y": {
          "bdata": "DwQhvQ==",
          "dtype": "f4"
         },
         "z": {
          "bdata": "uaS9Pg==",
          "dtype": "f4"
         }
        },
        {
         "hovertemplate": "color=buy<br>0=%{x}<br>1=%{y}<br>2=%{z}<extra></extra>",
         "legendgroup": "buy",
         "marker": {
          "color": "#FF6692",
          "symbol": "circle"
         },
         "mode": "markers",
         "name": "buy",
         "scene": "scene",
         "showlegend": true,
         "type": "scatter3d",
         "x": {
          "bdata": "EhRBvg==",
          "dtype": "f4"
         },
         "y": {
          "bdata": "/65MPQ==",
          "dtype": "f4"
         },
         "z": {
          "bdata": "urbAPQ==",
          "dtype": "f4"
         }
        },
        {
         "hovertemplate": "color=phone<br>0=%{x}<br>1=%{y}<br>2=%{z}<extra></extra>",
         "legendgroup": "phone",
         "marker": {
          "color": "#B6E880",
          "symbol": "circle"
         },
         "mode": "markers",
         "name": "phone",
         "scene": "scene",
         "showlegend": true,
         "type": "scatter3d",
         "x": {
          "bdata": "cgZcvg==",
          "dtype": "f4"
         },
         "y": {
          "bdata": "8ZWIPQ==",
          "dtype": "f4"
         },
         "z": {
          "bdata": "FNDHPg==",
          "dtype": "f4"
         }
        },
        {
         "hovertemplate": "color=googl<br>0=%{x}<br>1=%{y}<br>2=%{z}<extra></extra>",
         "legendgroup": "googl",
         "marker": {
          "color": "#FF97FF",
          "symbol": "circle"
         },
         "mode": "markers",
         "name": "googl",
         "scene": "scene",
         "showlegend": true,
         "type": "scatter3d",
         "x": {
          "bdata": "EuOevg==",
          "dtype": "f4"
         },
         "y": {
          "bdata": "qLKDvQ==",
          "dtype": "f4"
         },
         "z": {
          "bdata": "9KWRPg==",
          "dtype": "f4"
         }
        },
        {
         "hovertemplate": "color=answer<br>0=%{x}<br>1=%{y}<br>2=%{z}<extra></extra>",
         "legendgroup": "answer",
         "marker": {
          "color": "#FECB52",
          "symbol": "circle"
         },
         "mode": "markers",
         "name": "answer",
         "scene": "scene",
         "showlegend": true,
         "type": "scatter3d",
         "x": {
          "bdata": "b7fEvQ==",
          "dtype": "f4"
         },
         "y": {
          "bdata": "DzRBvg==",
          "dtype": "f4"
         },
         "z": {
          "bdata": "Y4idPg==",
          "dtype": "f4"
         }
        },
        {
         "hovertemplate": "color=live<br>0=%{x}<br>1=%{y}<br>2=%{z}<extra></extra>",
         "legendgroup": "live",
         "marker": {
          "color": "#636efa",
          "symbol": "circle"
         },
         "mode": "markers",
         "name": "live",
         "scene": "scene",
         "showlegend": true,
         "type": "scatter3d",
         "x": {
          "bdata": "tU9CPQ==",
          "dtype": "f4"
         },
         "y": {
          "bdata": "WbYdvg==",
          "dtype": "f4"
         },
         "z": {
          "bdata": "fMXYPA==",
          "dtype": "f4"
         }
        },
        {
         "hovertemplate": "color=student<br>0=%{x}<br>1=%{y}<br>2=%{z}<extra></extra>",
         "legendgroup": "student",
         "marker": {
          "color": "#EF553B",
          "symbol": "circle"
         },
         "mode": "markers",
         "name": "student",
         "scene": "scene",
         "showlegend": true,
         "type": "scatter3d",
         "x": {
          "bdata": "Q4eJvg==",
          "dtype": "f4"
         },
         "y": {
          "bdata": "CiGevg==",
          "dtype": "f4"
         },
         "z": {
          "bdata": "+XO+vQ==",
          "dtype": "f4"
         }
        },
        {
         "hovertemplate": "color=donald<br>0=%{x}<br>1=%{y}<br>2=%{z}<extra></extra>",
         "legendgroup": "donald",
         "marker": {
          "color": "#00cc96",
          "symbol": "circle"
         },
         "mode": "markers",
         "name": "donald",
         "scene": "scene",
         "showlegend": true,
         "type": "scatter3d",
         "x": {
          "bdata": "wzMSPg==",
          "dtype": "f4"
         },
         "y": {
          "bdata": "dyCxvg==",
          "dtype": "f4"
         },
         "z": {
          "bdata": "EuGQOw==",
          "dtype": "f4"
         }
        },
        {
         "hovertemplate": "color=old<br>0=%{x}<br>1=%{y}<br>2=%{z}<extra></extra>",
         "legendgroup": "old",
         "marker": {
          "color": "#ab63fa",
          "symbol": "circle"
         },
         "mode": "markers",
         "name": "old",
         "scene": "scene",
         "showlegend": true,
         "type": "scatter3d",
         "x": {
          "bdata": "C7JQuw==",
          "dtype": "f4"
         },
         "y": {
          "bdata": "OnTXvQ==",
          "dtype": "f4"
         },
         "z": {
          "bdata": "WGVrPg==",
          "dtype": "f4"
         }
        },
        {
         "hovertemplate": "color=websit<br>0=%{x}<br>1=%{y}<br>2=%{z}<extra></extra>",
         "legendgroup": "websit",
         "marker": {
          "color": "#FFA15A",
          "symbol": "circle"
         },
         "mode": "markers",
         "name": "websit",
         "scene": "scene",
         "showlegend": true,
         "type": "scatter3d",
         "x": {
          "bdata": "6eeovg==",
          "dtype": "f4"
         },
         "y": {
          "bdata": "E0cHvg==",
          "dtype": "f4"
         },
         "z": {
          "bdata": "abOGPg==",
          "dtype": "f4"
         }
        },
        {
         "hovertemplate": "color=weight<br>0=%{x}<br>1=%{y}<br>2=%{z}<extra></extra>",
         "legendgroup": "weight",
         "marker": {
          "color": "#19d3f3",
          "symbol": "circle"
         },
         "mode": "markers",
         "name": "weight",
         "scene": "scene",
         "showlegend": true,
         "type": "scatter3d",
         "x": {
          "bdata": "UzJNPQ==",
          "dtype": "f4"
         },
         "y": {
          "bdata": "PxsHPg==",
          "dtype": "f4"
         },
         "z": {
          "bdata": "1wGTPQ==",
          "dtype": "f4"
         }
        },
        {
         "hovertemplate": "color=stop<br>0=%{x}<br>1=%{y}<br>2=%{z}<extra></extra>",
         "legendgroup": "stop",
         "marker": {
          "color": "#FF6692",
          "symbol": "circle"
         },
         "mode": "markers",
         "name": "stop",
         "scene": "scene",
         "showlegend": true,
         "type": "scatter3d",
         "x": {
          "bdata": "DK8dPg==",
          "dtype": "f4"
         },
         "y": {
          "bdata": "St1yuw==",
          "dtype": "f4"
         },
         "z": {
          "bdata": "uixpPg==",
          "dtype": "f4"
         }
        },
        {
         "hovertemplate": "color=studi<br>0=%{x}<br>1=%{y}<br>2=%{z}<extra></extra>",
         "legendgroup": "studi",
         "marker": {
          "color": "#B6E880",
          "symbol": "circle"
         },
         "mode": "markers",
         "name": "studi",
         "scene": "scene",
         "showlegend": true,
         "type": "scatter3d",
         "x": {
          "bdata": "r8hBvg==",
          "dtype": "f4"
         },
         "y": {
          "bdata": "8RSOvg==",
          "dtype": "f4"
         },
         "z": {
          "bdata": "HHrhvQ==",
          "dtype": "f4"
         }
        },
        {
         "hovertemplate": "color=place<br>0=%{x}<br>1=%{y}<br>2=%{z}<extra></extra>",
         "legendgroup": "place",
         "marker": {
          "color": "#FF97FF",
          "symbol": "circle"
         },
         "mode": "markers",
         "name": "place",
         "scene": "scene",
         "showlegend": true,
         "type": "scatter3d",
         "x": {
          "bdata": "FKSNvQ==",
          "dtype": "f4"
         },
         "y": {
          "bdata": "o60Qvg==",
          "dtype": "f4"
         },
         "z": {
          "bdata": "iHtsvA==",
          "dtype": "f4"
         }
        },
        {
         "hovertemplate": "color=lose<br>0=%{x}<br>1=%{y}<br>2=%{z}<extra></extra>",
         "legendgroup": "lose",
         "marker": {
          "color": "#FECB52",
          "symbol": "circle"
         },
         "mode": "markers",
         "name": "lose",
         "scene": "scene",
         "showlegend": true,
         "type": "scatter3d",
         "x": {
          "bdata": "1eoRPg==",
          "dtype": "f4"
         },
         "y": {
          "bdata": "MAqGvQ==",
          "dtype": "f4"
         },
         "z": {
          "bdata": "FkcmPg==",
          "dtype": "f4"
         }
        },
        {
         "hovertemplate": "color=help<br>0=%{x}<br>1=%{y}<br>2=%{z}<extra></extra>",
         "legendgroup": "help",
         "marker": {
          "color": "#636efa",
          "symbol": "circle"
         },
         "mode": "markers",
         "name": "help",
         "scene": "scene",
         "showlegend": true,
         "type": "scatter3d",
         "x": {
          "bdata": "Q4zQuw==",
          "dtype": "f4"
         },
         "y": {
          "bdata": "ZIfkvQ==",
          "dtype": "f4"
         },
         "z": {
          "bdata": "9GkXPg==",
          "dtype": "f4"
         }
        },
        {
         "hovertemplate": "color=presid<br>0=%{x}<br>1=%{y}<br>2=%{z}<extra></extra>",
         "legendgroup": "presid",
         "marker": {
          "color": "#EF553B",
          "symbol": "circle"
         },
         "mode": "markers",
         "name": "presid",
         "scene": "scene",
         "showlegend": true,
         "type": "scatter3d",
         "x": {
          "bdata": "XrifPQ==",
          "dtype": "f4"
         },
         "y": {
          "bdata": "ANKqvg==",
          "dtype": "f4"
         },
         "z": {
          "bdata": "Jv8Evg==",
          "dtype": "f4"
         }
        },
        {
         "hovertemplate": "color=game<br>0=%{x}<br>1=%{y}<br>2=%{z}<extra></extra>",
         "legendgroup": "game",
         "marker": {
          "color": "#00cc96",
          "symbol": "circle"
         },
         "mode": "markers",
         "name": "game",
         "scene": "scene",
         "showlegend": true,
         "type": "scatter3d",
         "x": {
          "bdata": "SrMPvg==",
          "dtype": "f4"
         },
         "y": {
          "bdata": "78DdvQ==",
          "dtype": "f4"
         },
         "z": {
          "bdata": "cJZXPg==",
          "dtype": "f4"
         }
        },
        {
         "hovertemplate": "color=import<br>0=%{x}<br>1=%{y}<br>2=%{z}<extra></extra>",
         "legendgroup": "import",
         "marker": {
          "color": "#ab63fa",
          "symbol": "circle"
         },
         "mode": "markers",
         "name": "import",
         "scene": "scene",
         "showlegend": true,
         "type": "scatter3d",
         "x": {
          "bdata": "c27fvQ==",
          "dtype": "f4"
         },
         "y": {
          "bdata": "tuT4vQ==",
          "dtype": "f4"
         },
         "z": {
          "bdata": "5N9KvQ==",
          "dtype": "f4"
         }
        },
        {
         "hovertemplate": "color=look<br>0=%{x}<br>1=%{y}<br>2=%{z}<extra></extra>",
         "legendgroup": "look",
         "marker": {
          "color": "#FFA15A",
          "symbol": "circle"
         },
         "mode": "markers",
         "name": "look",
         "scene": "scene",
         "showlegend": true,
         "type": "scatter3d",
         "x": {
          "bdata": "BdHtOw==",
          "dtype": "f4"
         },
         "y": {
          "bdata": "AmInvg==",
          "dtype": "f4"
         },
         "z": {
          "bdata": "ebwNPg==",
          "dtype": "f4"
         }
        },
        {
         "hovertemplate": "color=black<br>0=%{x}<br>1=%{y}<br>2=%{z}<extra></extra>",
         "legendgroup": "black",
         "marker": {
          "color": "#19d3f3",
          "symbol": "circle"
         },
         "mode": "markers",
         "name": "black",
         "scene": "scene",
         "showlegend": true,
         "type": "scatter3d",
         "x": {
          "bdata": "CKT0PQ==",
          "dtype": "f4"
         },
         "y": {
          "bdata": "SDlJOw==",
          "dtype": "f4"
         },
         "z": {
          "bdata": "lBqSPQ==",
          "dtype": "f4"
         }
        },
        {
         "hovertemplate": "color=see<br>0=%{x}<br>1=%{y}<br>2=%{z}<extra></extra>",
         "legendgroup": "see",
         "marker": {
          "color": "#FF6692",
          "symbol": "circle"
         },
         "mode": "markers",
         "name": "see",
         "scene": "scene",
         "showlegend": true,
         "type": "scatter3d",
         "x": {
          "bdata": "Y3LHPQ==",
          "dtype": "f4"
         },
         "y": {
          "bdata": "CVcMvg==",
          "dtype": "f4"
         },
         "z": {
          "bdata": "z5yqPg==",
          "dtype": "f4"
         }
        },
        {
         "hovertemplate": "color=sex<br>0=%{x}<br>1=%{y}<br>2=%{z}<extra></extra>",
         "legendgroup": "sex",
         "marker": {
          "color": "#B6E880",
          "symbol": "circle"
         },
         "mode": "markers",
         "name": "sex",
         "scene": "scene",
         "showlegend": true,
         "type": "scatter3d",
         "x": {
          "bdata": "Fo8KPg==",
          "dtype": "f4"
         },
         "y": {
          "bdata": "1VMVvg==",
          "dtype": "f4"
         },
         "z": {
          "bdata": "mvB0Pg==",
          "dtype": "f4"
         }
        },
        {
         "hovertemplate": "color=colleg<br>0=%{x}<br>1=%{y}<br>2=%{z}<extra></extra>",
         "legendgroup": "colleg",
         "marker": {
          "color": "#FF97FF",
          "symbol": "circle"
         },
         "mode": "markers",
         "name": "colleg",
         "scene": "scene",
         "showlegend": true,
         "type": "scatter3d",
         "x": {
          "bdata": "YpJgvg==",
          "dtype": "f4"
         },
         "y": {
          "bdata": "MH+bvg==",
          "dtype": "f4"
         },
         "z": {
          "bdata": "a0GVvQ==",
          "dtype": "f4"
         }
        },
        {
         "hovertemplate": "color=comput<br>0=%{x}<br>1=%{y}<br>2=%{z}<extra></extra>",
         "legendgroup": "comput",
         "marker": {
          "color": "#FECB52",
          "symbol": "circle"
         },
         "mode": "markers",
         "name": "comput",
         "scene": "scene",
         "showlegend": true,
         "type": "scatter3d",
         "x": {
          "bdata": "gCmrvg==",
          "dtype": "f4"
         },
         "y": {
          "bdata": "V+hIvQ==",
          "dtype": "f4"
         },
         "z": {
          "bdata": "s/72PQ==",
          "dtype": "f4"
         }
        }
       ],
       "layout": {
        "legend": {
         "title": {
          "text": "color"
         },
         "tracegroupgap": 0
        },
        "margin": {
         "t": 60
        },
        "scene": {
         "domain": {
          "x": [
           0,
           1
          ],
          "y": [
           0,
           1
          ]
         },
         "xaxis": {
          "title": {
           "text": "0"
          }
         },
         "yaxis": {
          "title": {
           "text": "1"
          }
         },
         "zaxis": {
          "title": {
           "text": "2"
          }
         }
        },
        "template": {
         "data": {
          "bar": [
           {
            "error_x": {
             "color": "#2a3f5f"
            },
            "error_y": {
             "color": "#2a3f5f"
            },
            "marker": {
             "line": {
              "color": "#E5ECF6",
              "width": 0.5
             },
             "pattern": {
              "fillmode": "overlay",
              "size": 10,
              "solidity": 0.2
             }
            },
            "type": "bar"
           }
          ],
          "barpolar": [
           {
            "marker": {
             "line": {
              "color": "#E5ECF6",
              "width": 0.5
             },
             "pattern": {
              "fillmode": "overlay",
              "size": 10,
              "solidity": 0.2
             }
            },
            "type": "barpolar"
           }
          ],
          "carpet": [
           {
            "aaxis": {
             "endlinecolor": "#2a3f5f",
             "gridcolor": "white",
             "linecolor": "white",
             "minorgridcolor": "white",
             "startlinecolor": "#2a3f5f"
            },
            "baxis": {
             "endlinecolor": "#2a3f5f",
             "gridcolor": "white",
             "linecolor": "white",
             "minorgridcolor": "white",
             "startlinecolor": "#2a3f5f"
            },
            "type": "carpet"
           }
          ],
          "choropleth": [
           {
            "colorbar": {
             "outlinewidth": 0,
             "ticks": ""
            },
            "type": "choropleth"
           }
          ],
          "contour": [
           {
            "colorbar": {
             "outlinewidth": 0,
             "ticks": ""
            },
            "colorscale": [
             [
              0,
              "#0d0887"
             ],
             [
              0.1111111111111111,
              "#46039f"
             ],
             [
              0.2222222222222222,
              "#7201a8"
             ],
             [
              0.3333333333333333,
              "#9c179e"
             ],
             [
              0.4444444444444444,
              "#bd3786"
             ],
             [
              0.5555555555555556,
              "#d8576b"
             ],
             [
              0.6666666666666666,
              "#ed7953"
             ],
             [
              0.7777777777777778,
              "#fb9f3a"
             ],
             [
              0.8888888888888888,
              "#fdca26"
             ],
             [
              1,
              "#f0f921"
             ]
            ],
            "type": "contour"
           }
          ],
          "contourcarpet": [
           {
            "colorbar": {
             "outlinewidth": 0,
             "ticks": ""
            },
            "type": "contourcarpet"
           }
          ],
          "heatmap": [
           {
            "colorbar": {
             "outlinewidth": 0,
             "ticks": ""
            },
            "colorscale": [
             [
              0,
              "#0d0887"
             ],
             [
              0.1111111111111111,
              "#46039f"
             ],
             [
              0.2222222222222222,
              "#7201a8"
             ],
             [
              0.3333333333333333,
              "#9c179e"
             ],
             [
              0.4444444444444444,
              "#bd3786"
             ],
             [
              0.5555555555555556,
              "#d8576b"
             ],
             [
              0.6666666666666666,
              "#ed7953"
             ],
             [
              0.7777777777777778,
              "#fb9f3a"
             ],
             [
              0.8888888888888888,
              "#fdca26"
             ],
             [
              1,
              "#f0f921"
             ]
            ],
            "type": "heatmap"
           }
          ],
          "histogram": [
           {
            "marker": {
             "pattern": {
              "fillmode": "overlay",
              "size": 10,
              "solidity": 0.2
             }
            },
            "type": "histogram"
           }
          ],
          "histogram2d": [
           {
            "colorbar": {
             "outlinewidth": 0,
             "ticks": ""
            },
            "colorscale": [
             [
              0,
              "#0d0887"
             ],
             [
              0.1111111111111111,
              "#46039f"
             ],
             [
              0.2222222222222222,
              "#7201a8"
             ],
             [
              0.3333333333333333,
              "#9c179e"
             ],
             [
              0.4444444444444444,
              "#bd3786"
             ],
             [
              0.5555555555555556,
              "#d8576b"
             ],
             [
              0.6666666666666666,
              "#ed7953"
             ],
             [
              0.7777777777777778,
              "#fb9f3a"
             ],
             [
              0.8888888888888888,
              "#fdca26"
             ],
             [
              1,
              "#f0f921"
             ]
            ],
            "type": "histogram2d"
           }
          ],
          "histogram2dcontour": [
           {
            "colorbar": {
             "outlinewidth": 0,
             "ticks": ""
            },
            "colorscale": [
             [
              0,
              "#0d0887"
             ],
             [
              0.1111111111111111,
              "#46039f"
             ],
             [
              0.2222222222222222,
              "#7201a8"
             ],
             [
              0.3333333333333333,
              "#9c179e"
             ],
             [
              0.4444444444444444,
              "#bd3786"
             ],
             [
              0.5555555555555556,
              "#d8576b"
             ],
             [
              0.6666666666666666,
              "#ed7953"
             ],
             [
              0.7777777777777778,
              "#fb9f3a"
             ],
             [
              0.8888888888888888,
              "#fdca26"
             ],
             [
              1,
              "#f0f921"
             ]
            ],
            "type": "histogram2dcontour"
           }
          ],
          "mesh3d": [
           {
            "colorbar": {
             "outlinewidth": 0,
             "ticks": ""
            },
            "type": "mesh3d"
           }
          ],
          "parcoords": [
           {
            "line": {
             "colorbar": {
              "outlinewidth": 0,
              "ticks": ""
             }
            },
            "type": "parcoords"
           }
          ],
          "pie": [
           {
            "automargin": true,
            "type": "pie"
           }
          ],
          "scatter": [
           {
            "fillpattern": {
             "fillmode": "overlay",
             "size": 10,
             "solidity": 0.2
            },
            "type": "scatter"
           }
          ],
          "scatter3d": [
           {
            "line": {
             "colorbar": {
              "outlinewidth": 0,
              "ticks": ""
             }
            },
            "marker": {
             "colorbar": {
              "outlinewidth": 0,
              "ticks": ""
             }
            },
            "type": "scatter3d"
           }
          ],
          "scattercarpet": [
           {
            "marker": {
             "colorbar": {
              "outlinewidth": 0,
              "ticks": ""
             }
            },
            "type": "scattercarpet"
           }
          ],
          "scattergeo": [
           {
            "marker": {
             "colorbar": {
              "outlinewidth": 0,
              "ticks": ""
             }
            },
            "type": "scattergeo"
           }
          ],
          "scattergl": [
           {
            "marker": {
             "colorbar": {
              "outlinewidth": 0,
              "ticks": ""
             }
            },
            "type": "scattergl"
           }
          ],
          "scattermap": [
           {
            "marker": {
             "colorbar": {
              "outlinewidth": 0,
              "ticks": ""
             }
            },
            "type": "scattermap"
           }
          ],
          "scattermapbox": [
           {
            "marker": {
             "colorbar": {
              "outlinewidth": 0,
              "ticks": ""
             }
            },
            "type": "scattermapbox"
           }
          ],
          "scatterpolar": [
           {
            "marker": {
             "colorbar": {
              "outlinewidth": 0,
              "ticks": ""
             }
            },
            "type": "scatterpolar"
           }
          ],
          "scatterpolargl": [
           {
            "marker": {
             "colorbar": {
              "outlinewidth": 0,
              "ticks": ""
             }
            },
            "type": "scatterpolargl"
           }
          ],
          "scatterternary": [
           {
            "marker": {
             "colorbar": {
              "outlinewidth": 0,
              "ticks": ""
             }
            },
            "type": "scatterternary"
           }
          ],
          "surface": [
           {
            "colorbar": {
             "outlinewidth": 0,
             "ticks": ""
            },
            "colorscale": [
             [
              0,
              "#0d0887"
             ],
             [
              0.1111111111111111,
              "#46039f"
             ],
             [
              0.2222222222222222,
              "#7201a8"
             ],
             [
              0.3333333333333333,
              "#9c179e"
             ],
             [
              0.4444444444444444,
              "#bd3786"
             ],
             [
              0.5555555555555556,
              "#d8576b"
             ],
             [
              0.6666666666666666,
              "#ed7953"
             ],
             [
              0.7777777777777778,
              "#fb9f3a"
             ],
             [
              0.8888888888888888,
              "#fdca26"
             ],
             [
              1,
              "#f0f921"
             ]
            ],
            "type": "surface"
           }
          ],
          "table": [
           {
            "cells": {
             "fill": {
              "color": "#EBF0F8"
             },
             "line": {
              "color": "white"
             }
            },
            "header": {
             "fill": {
              "color": "#C8D4E3"
             },
             "line": {
              "color": "white"
             }
            },
            "type": "table"
           }
          ]
         },
         "layout": {
          "annotationdefaults": {
           "arrowcolor": "#2a3f5f",
           "arrowhead": 0,
           "arrowwidth": 1
          },
          "autotypenumbers": "strict",
          "coloraxis": {
           "colorbar": {
            "outlinewidth": 0,
            "ticks": ""
           }
          },
          "colorscale": {
           "diverging": [
            [
             0,
             "#8e0152"
            ],
            [
             0.1,
             "#c51b7d"
            ],
            [
             0.2,
             "#de77ae"
            ],
            [
             0.3,
             "#f1b6da"
            ],
            [
             0.4,
             "#fde0ef"
            ],
            [
             0.5,
             "#f7f7f7"
            ],
            [
             0.6,
             "#e6f5d0"
            ],
            [
             0.7,
             "#b8e186"
            ],
            [
             0.8,
             "#7fbc41"
            ],
            [
             0.9,
             "#4d9221"
            ],
            [
             1,
             "#276419"
            ]
           ],
           "sequential": [
            [
             0,
             "#0d0887"
            ],
            [
             0.1111111111111111,
             "#46039f"
            ],
            [
             0.2222222222222222,
             "#7201a8"
            ],
            [
             0.3333333333333333,
             "#9c179e"
            ],
            [
             0.4444444444444444,
             "#bd3786"
            ],
            [
             0.5555555555555556,
             "#d8576b"
            ],
            [
             0.6666666666666666,
             "#ed7953"
            ],
            [
             0.7777777777777778,
             "#fb9f3a"
            ],
            [
             0.8888888888888888,
             "#fdca26"
            ],
            [
             1,
             "#f0f921"
            ]
           ],
           "sequentialminus": [
            [
             0,
             "#0d0887"
            ],
            [
             0.1111111111111111,
             "#46039f"
            ],
            [
             0.2222222222222222,
             "#7201a8"
            ],
            [
             0.3333333333333333,
             "#9c179e"
            ],
            [
             0.4444444444444444,
             "#bd3786"
            ],
            [
             0.5555555555555556,
             "#d8576b"
            ],
            [
             0.6666666666666666,
             "#ed7953"
            ],
            [
             0.7777777777777778,
             "#fb9f3a"
            ],
            [
             0.8888888888888888,
             "#fdca26"
            ],
            [
             1,
             "#f0f921"
            ]
           ]
          },
          "colorway": [
           "#636efa",
           "#EF553B",
           "#00cc96",
           "#ab63fa",
           "#FFA15A",
           "#19d3f3",
           "#FF6692",
           "#B6E880",
           "#FF97FF",
           "#FECB52"
          ],
          "font": {
           "color": "#2a3f5f"
          },
          "geo": {
           "bgcolor": "white",
           "lakecolor": "white",
           "landcolor": "#E5ECF6",
           "showlakes": true,
           "showland": true,
           "subunitcolor": "white"
          },
          "hoverlabel": {
           "align": "left"
          },
          "hovermode": "closest",
          "mapbox": {
           "style": "light"
          },
          "paper_bgcolor": "white",
          "plot_bgcolor": "#E5ECF6",
          "polar": {
           "angularaxis": {
            "gridcolor": "white",
            "linecolor": "white",
            "ticks": ""
           },
           "bgcolor": "#E5ECF6",
           "radialaxis": {
            "gridcolor": "white",
            "linecolor": "white",
            "ticks": ""
           }
          },
          "scene": {
           "xaxis": {
            "backgroundcolor": "#E5ECF6",
            "gridcolor": "white",
            "gridwidth": 2,
            "linecolor": "white",
            "showbackground": true,
            "ticks": "",
            "zerolinecolor": "white"
           },
           "yaxis": {
            "backgroundcolor": "#E5ECF6",
            "gridcolor": "white",
            "gridwidth": 2,
            "linecolor": "white",
            "showbackground": true,
            "ticks": "",
            "zerolinecolor": "white"
           },
           "zaxis": {
            "backgroundcolor": "#E5ECF6",
            "gridcolor": "white",
            "gridwidth": 2,
            "linecolor": "white",
            "showbackground": true,
            "ticks": "",
            "zerolinecolor": "white"
           }
          },
          "shapedefaults": {
           "line": {
            "color": "#2a3f5f"
           }
          },
          "ternary": {
           "aaxis": {
            "gridcolor": "white",
            "linecolor": "white",
            "ticks": ""
           },
           "baxis": {
            "gridcolor": "white",
            "linecolor": "white",
            "ticks": ""
           },
           "bgcolor": "#E5ECF6",
           "caxis": {
            "gridcolor": "white",
            "linecolor": "white",
            "ticks": ""
           }
          },
          "title": {
           "x": 0.05
          },
          "xaxis": {
           "automargin": true,
           "gridcolor": "white",
           "linecolor": "white",
           "ticks": "",
           "title": {
            "standoff": 15
           },
           "zerolinecolor": "white",
           "zerolinewidth": 2
          },
          "yaxis": {
           "automargin": true,
           "gridcolor": "white",
           "linecolor": "white",
           "ticks": "",
           "title": {
            "standoff": 15
           },
           "zerolinecolor": "white",
           "zerolinewidth": 2
          }
         }
        }
       }
      }
     },
     "metadata": {},
     "output_type": "display_data"
    }
   ],
   "source": [
    "# 3D representation of Words\n",
    "import plotly.express as px # 3D representation\n",
    "fig=px.scatter_3d(x[:100],x=0,y=1,z=2,color=y[:100]) # ploting 100 words\n",
    "fig.show()"
   ]
  },
  {
   "cell_type": "code",
   "execution_count": 28,
   "id": "ca1febb8",
   "metadata": {},
   "outputs": [],
   "source": [
    "# Getting vector Representaion of each Question\n",
    "def question_vector(tokens,w2v_model):\n",
    "    vectors=[]\n",
    "    for word in tokens:\n",
    "        if word in w2v_model.wv:\n",
    "            vectors.append(w2v_model.wv[word])\n",
    "\n",
    "    if len(vectors)==0:\n",
    "        return np.zeros(w2v_model.vector_size)\n",
    "    else:\n",
    "        return np.mean(vectors,axis=0)\n",
    "\n",
    "ques_df['q1_vec']=ques_df['q1_clean'].apply(lambda x: question_vector(x,model))\n",
    "ques_df['q2_vec']=ques_df['q2_clean'].apply(lambda x: question_vector(x,model))"
   ]
  },
  {
   "cell_type": "code",
   "execution_count": 29,
   "id": "25326168",
   "metadata": {},
   "outputs": [],
   "source": [
    "# Combine Question Vectors to Create Single Feature Vectors per row\n",
    "# Using Concatenation - model has to learn differences or similarities implicitly from the two raw vectors.\n",
    "# Applying absolute difference - provides the model with direct signals about how close or far the questions are in the embedding space\n",
    "x_concat = np.hstack([np.vstack(ques_df['q1_vec'].values), np.vstack(ques_df['q2_vec'].values)])\n",
    "x_diff = np.abs(np.vstack(ques_df['q1_vec'].values) - np.vstack(ques_df['q2_vec'].values))\n"
   ]
  },
  {
   "cell_type": "code",
   "execution_count": 30,
   "id": "c48d070c",
   "metadata": {},
   "outputs": [],
   "source": [
    "# Combine both features to yield better results\n",
    "x_features = np.hstack([x_concat, x_diff])"
   ]
  },
  {
   "cell_type": "code",
   "execution_count": 31,
   "id": "e6570704",
   "metadata": {},
   "outputs": [
    {
     "data": {
      "text/html": [
       "<div>\n",
       "<style scoped>\n",
       "    .dataframe tbody tr th:only-of-type {\n",
       "        vertical-align: middle;\n",
       "    }\n",
       "\n",
       "    .dataframe tbody tr th {\n",
       "        vertical-align: top;\n",
       "    }\n",
       "\n",
       "    .dataframe thead th {\n",
       "        text-align: right;\n",
       "    }\n",
       "</style>\n",
       "<table border=\"1\" class=\"dataframe\">\n",
       "  <thead>\n",
       "    <tr style=\"text-align: right;\">\n",
       "      <th></th>\n",
       "      <th>question1</th>\n",
       "      <th>question2</th>\n",
       "      <th>q1_clean</th>\n",
       "      <th>q2_clean</th>\n",
       "      <th>q1_vec</th>\n",
       "      <th>q2_vec</th>\n",
       "    </tr>\n",
       "  </thead>\n",
       "  <tbody>\n",
       "    <tr>\n",
       "      <th>354924</th>\n",
       "      <td>Why is  the iPod touch called an iPod?</td>\n",
       "      <td>How are iPod and iPod Touch different?</td>\n",
       "      <td>[ipod, touch, call, ipod]</td>\n",
       "      <td>[ipod, ipod, touch, differ]</td>\n",
       "      <td>[0.19758877, 0.31965208, -0.1629177, 0.0244661...</td>\n",
       "      <td>[0.100949064, 0.23610143, -0.11664283, -0.0357...</td>\n",
       "    </tr>\n",
       "    <tr>\n",
       "      <th>142581</th>\n",
       "      <td>How do I find my first investment property?</td>\n",
       "      <td>How do I find investment properties?</td>\n",
       "      <td>[find, first, invest, properti]</td>\n",
       "      <td>[find, invest, properti]</td>\n",
       "      <td>[-0.12879634, 0.70947516, 0.20635833, 0.050394...</td>\n",
       "      <td>[-0.12576957, 0.8783118, 0.20483856, -0.127199...</td>\n",
       "    </tr>\n",
       "  </tbody>\n",
       "</table>\n",
       "</div>"
      ],
      "text/plain": [
       "                                          question1  \\\n",
       "354924       Why is  the iPod touch called an iPod?   \n",
       "142581  How do I find my first investment property?   \n",
       "\n",
       "                                     question2  \\\n",
       "354924  How are iPod and iPod Touch different?   \n",
       "142581    How do I find investment properties?   \n",
       "\n",
       "                               q1_clean                     q2_clean  \\\n",
       "354924        [ipod, touch, call, ipod]  [ipod, ipod, touch, differ]   \n",
       "142581  [find, first, invest, properti]     [find, invest, properti]   \n",
       "\n",
       "                                                   q1_vec  \\\n",
       "354924  [0.19758877, 0.31965208, -0.1629177, 0.0244661...   \n",
       "142581  [-0.12879634, 0.70947516, 0.20635833, 0.050394...   \n",
       "\n",
       "                                                   q2_vec  \n",
       "354924  [0.100949064, 0.23610143, -0.11664283, -0.0357...  \n",
       "142581  [-0.12576957, 0.8783118, 0.20483856, -0.127199...  "
      ]
     },
     "execution_count": 31,
     "metadata": {},
     "output_type": "execute_result"
    }
   ],
   "source": [
    "ques_df.head(2)"
   ]
  },
  {
   "cell_type": "code",
   "execution_count": 32,
   "id": "e7f621cc",
   "metadata": {},
   "outputs": [],
   "source": [
    "# Add 'is_duplicate' column to ques_df\n",
    "ques_df['is_duplicate'] = df.loc[ques_df.index, 'is_duplicate']"
   ]
  },
  {
   "cell_type": "code",
   "execution_count": 33,
   "id": "b3a674ae",
   "metadata": {},
   "outputs": [
    {
     "data": {
      "text/html": [
       "<div>\n",
       "<style scoped>\n",
       "    .dataframe tbody tr th:only-of-type {\n",
       "        vertical-align: middle;\n",
       "    }\n",
       "\n",
       "    .dataframe tbody tr th {\n",
       "        vertical-align: top;\n",
       "    }\n",
       "\n",
       "    .dataframe thead th {\n",
       "        text-align: right;\n",
       "    }\n",
       "</style>\n",
       "<table border=\"1\" class=\"dataframe\">\n",
       "  <thead>\n",
       "    <tr style=\"text-align: right;\">\n",
       "      <th></th>\n",
       "      <th>question1</th>\n",
       "      <th>question2</th>\n",
       "      <th>q1_clean</th>\n",
       "      <th>q2_clean</th>\n",
       "      <th>q1_vec</th>\n",
       "      <th>q2_vec</th>\n",
       "      <th>is_duplicate</th>\n",
       "    </tr>\n",
       "  </thead>\n",
       "  <tbody>\n",
       "    <tr>\n",
       "      <th>354924</th>\n",
       "      <td>Why is  the iPod touch called an iPod?</td>\n",
       "      <td>How are iPod and iPod Touch different?</td>\n",
       "      <td>[ipod, touch, call, ipod]</td>\n",
       "      <td>[ipod, ipod, touch, differ]</td>\n",
       "      <td>[0.19758877, 0.31965208, -0.1629177, 0.0244661...</td>\n",
       "      <td>[0.100949064, 0.23610143, -0.11664283, -0.0357...</td>\n",
       "      <td>0</td>\n",
       "    </tr>\n",
       "    <tr>\n",
       "      <th>142581</th>\n",
       "      <td>How do I find my first investment property?</td>\n",
       "      <td>How do I find investment properties?</td>\n",
       "      <td>[find, first, invest, properti]</td>\n",
       "      <td>[find, invest, properti]</td>\n",
       "      <td>[-0.12879634, 0.70947516, 0.20635833, 0.050394...</td>\n",
       "      <td>[-0.12576957, 0.8783118, 0.20483856, -0.127199...</td>\n",
       "      <td>1</td>\n",
       "    </tr>\n",
       "    <tr>\n",
       "      <th>316449</th>\n",
       "      <td>How would Indians and prospective Indian stude...</td>\n",
       "      <td>Will Donald Trump allow Indian students to stu...</td>\n",
       "      <td>[would, indian, prospect, indian, student, wan...</td>\n",
       "      <td>[donald, trump, allow, indian, student, studi, u]</td>\n",
       "      <td>[-0.07911031, 0.012128361, 0.046152297, 0.0174...</td>\n",
       "      <td>[-0.12753262, -0.018740859, 0.16702187, 0.0710...</td>\n",
       "      <td>0</td>\n",
       "    </tr>\n",
       "  </tbody>\n",
       "</table>\n",
       "</div>"
      ],
      "text/plain": [
       "                                                question1  \\\n",
       "354924             Why is  the iPod touch called an iPod?   \n",
       "142581        How do I find my first investment property?   \n",
       "316449  How would Indians and prospective Indian stude...   \n",
       "\n",
       "                                                question2  \\\n",
       "354924             How are iPod and iPod Touch different?   \n",
       "142581               How do I find investment properties?   \n",
       "316449  Will Donald Trump allow Indian students to stu...   \n",
       "\n",
       "                                                 q1_clean  \\\n",
       "354924                          [ipod, touch, call, ipod]   \n",
       "142581                    [find, first, invest, properti]   \n",
       "316449  [would, indian, prospect, indian, student, wan...   \n",
       "\n",
       "                                                 q2_clean  \\\n",
       "354924                        [ipod, ipod, touch, differ]   \n",
       "142581                           [find, invest, properti]   \n",
       "316449  [donald, trump, allow, indian, student, studi, u]   \n",
       "\n",
       "                                                   q1_vec  \\\n",
       "354924  [0.19758877, 0.31965208, -0.1629177, 0.0244661...   \n",
       "142581  [-0.12879634, 0.70947516, 0.20635833, 0.050394...   \n",
       "316449  [-0.07911031, 0.012128361, 0.046152297, 0.0174...   \n",
       "\n",
       "                                                   q2_vec  is_duplicate  \n",
       "354924  [0.100949064, 0.23610143, -0.11664283, -0.0357...             0  \n",
       "142581  [-0.12576957, 0.8783118, 0.20483856, -0.127199...             1  \n",
       "316449  [-0.12753262, -0.018740859, 0.16702187, 0.0710...             0  "
      ]
     },
     "execution_count": 33,
     "metadata": {},
     "output_type": "execute_result"
    }
   ],
   "source": [
    "ques_df.head(3)"
   ]
  },
  {
   "cell_type": "code",
   "execution_count": 34,
   "id": "a292e0ea",
   "metadata": {},
   "outputs": [],
   "source": [
    "y_labels=ques_df['is_duplicate'].values"
   ]
  },
  {
   "cell_type": "code",
   "execution_count": 35,
   "id": "5a99d68a",
   "metadata": {},
   "outputs": [],
   "source": [
    "# Train Random Forest Classifier\n",
    "\n",
    "from sklearn.ensemble import RandomForestClassifier\n",
    "from sklearn.model_selection import train_test_split\n",
    "from sklearn.metrics import accuracy_score"
   ]
  },
  {
   "cell_type": "code",
   "execution_count": 36,
   "id": "eaac978a",
   "metadata": {},
   "outputs": [],
   "source": [
    "x_train,x_test,y_train,y_test=train_test_split(x_features,y_labels,test_size=0.2,random_state=2)"
   ]
  },
  {
   "cell_type": "code",
   "execution_count": 37,
   "id": "326d3fb0",
   "metadata": {},
   "outputs": [
    {
     "data": {
      "text/plain": [
       "0.7655966081162932"
      ]
     },
     "execution_count": 37,
     "metadata": {},
     "output_type": "execute_result"
    }
   ],
   "source": [
    "rf=RandomForestClassifier(n_estimators=100, random_state=42)\n",
    "rf.fit(x_train,y_train)\n",
    "y_pred=rf.predict(x_test)\n",
    "accuracy_score(y_test,y_pred)"
   ]
  }
 ],
 "metadata": {
  "kernelspec": {
   "display_name": "Python 3",
   "language": "python",
   "name": "python3"
  },
  "language_info": {
   "codemirror_mode": {
    "name": "ipython",
    "version": 3
   },
   "file_extension": ".py",
   "mimetype": "text/x-python",
   "name": "python",
   "nbconvert_exporter": "python",
   "pygments_lexer": "ipython3",
   "version": "3.12.1"
  }
 },
 "nbformat": 4,
 "nbformat_minor": 5
}
